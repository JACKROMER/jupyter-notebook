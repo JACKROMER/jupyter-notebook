{
 "cells": [
  {
   "cell_type": "code",
   "execution_count": 8,
   "metadata": {},
   "outputs": [
    {
     "data": {
      "text/plain": [
       "[1, 1, 4, 9]"
      ]
     },
     "execution_count": 8,
     "metadata": {},
     "output_type": "execute_result"
    }
   ],
   "source": [
    "a = [1,1,2,3]\n",
    "b = [1,1,2,3]\n",
    "c = []\n",
    "for i in range(len(a)):\n",
    "    c.append(a[i] * b[i])\n",
    "c\n"
   ]
  },
  {
   "cell_type": "code",
   "execution_count": 1,
   "metadata": {},
   "outputs": [
    {
     "data": {
      "text/plain": [
       "array([[1, 2, 3],\n",
       "       [1, 2, 3]])"
      ]
     },
     "execution_count": 1,
     "metadata": {},
     "output_type": "execute_result"
    }
   ],
   "source": [
    "import numpy as np\n",
    "a = np.arange(15).reshape(3,5)\n",
    "a\n",
    "# shape means dimension /weidu\n",
    "a.shape\n",
    "# array shape zhou de ge shu\n",
    "a.ndim\n",
    "# 2\n",
    "a.dtype.name\n",
    "# int 32\n",
    "a.itemsize\n",
    "#4\n",
    "a.size\n",
    "# 15\n",
    "type(a)\n",
    "# numpy.ndarray\n",
    "b = np.array([6,7,8])\n",
    "b\n",
    "type(b)\n",
    "\n",
    "b = np.array([(1,2,3),(1,2,3)])\n",
    "b"
   ]
  },
  {
   "cell_type": "code",
   "execution_count": 2,
   "metadata": {},
   "outputs": [
    {
     "data": {
      "text/plain": [
       "0.8939966636005579"
      ]
     },
     "execution_count": 2,
     "metadata": {},
     "output_type": "execute_result"
    }
   ],
   "source": [
    "# 创建常规数组\n",
    "np.zeros((6,5))\n",
    "\n",
    "np.ones((2,3,4),dtype=np.int16)\n",
    "\n",
    "np.empty((7,4),dtype=np.int16)\n",
    "\n",
    "np.arange(10,30,5)\n",
    "\n",
    "np.arange(0,10,0.2)\n",
    "\n",
    "# 使用linspace 避免精度问题\n",
    "from numpy import pi\n",
    "np.linspace(0,2,9)\n",
    "x = np.linspace(0,2*pi,100)\n",
    "x\n",
    "f = np.sin(90)\n",
    "f"
   ]
  },
  {
   "cell_type": "code",
   "execution_count": 55,
   "metadata": {},
   "outputs": [
    {
     "data": {
      "text/plain": [
       "array([ True,  True, False, False])"
      ]
     },
     "execution_count": 55,
     "metadata": {},
     "output_type": "execute_result"
    }
   ],
   "source": [
    "a = np.array([20,30,40,50])\n",
    "b = np.arange(4)\n",
    "b\n",
    "\n",
    "c = a - b \n",
    "c\n",
    "\n",
    "b**2\n",
    "\n",
    "10*np.sin(a)\n",
    "a < 35"
   ]
  },
  {
   "cell_type": "code",
   "execution_count": 63,
   "metadata": {},
   "outputs": [
    {
     "data": {
      "text/plain": [
       "array([[ 5,  6],\n",
       "       [10, 14]])"
      ]
     },
     "execution_count": 63,
     "metadata": {},
     "output_type": "execute_result"
    }
   ],
   "source": [
    "# 矩阵乘积\n",
    "a = np.array([[1,1],[2,3]])\n",
    "b = np.array([[2,3],[4,5]])\n",
    "a * b\n",
    "\n",
    "a @ b\n",
    "\n",
    "a *= 3\n",
    "a\n",
    "b +=a\n",
    "b"
   ]
  },
  {
   "cell_type": "code",
   "execution_count": 69,
   "metadata": {},
   "outputs": [
    {
     "data": {
      "text/plain": [
       "array([[ 0,  1,  2,  3],\n",
       "       [ 4,  5,  6,  7],\n",
       "       [ 8,  9, 10, 11]])"
      ]
     },
     "execution_count": 69,
     "metadata": {},
     "output_type": "execute_result"
    }
   ],
   "source": [
    "b = np.arange(12).reshape(3,4)\n",
    "b\n",
    "# b.sum(axis = 0)"
   ]
  }
 ],
 "metadata": {
  "kernelspec": {
   "display_name": "Python 3",
   "language": "python",
   "name": "python3"
  },
  "language_info": {
   "codemirror_mode": {
    "name": "ipython",
    "version": 3
   },
   "file_extension": ".py",
   "mimetype": "text/x-python",
   "name": "python",
   "nbconvert_exporter": "python",
   "pygments_lexer": "ipython3",
   "version": "3.8.1"
  }
 },
 "nbformat": 4,
 "nbformat_minor": 4
}
