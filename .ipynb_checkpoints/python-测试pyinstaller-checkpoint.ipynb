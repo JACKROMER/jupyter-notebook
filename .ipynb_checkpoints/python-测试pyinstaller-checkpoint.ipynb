{
 "cells": [
  {
   "cell_type": "code",
   "execution_count": 1,
   "metadata": {
    "ExecuteTime": {
     "end_time": "2019-01-22T10:11:04.664097Z",
     "start_time": "2019-01-22T10:10:56.646772Z"
    }
   },
   "outputs": [
    {
     "name": "stdout",
     "output_type": "stream",
     "text": [
      "the files in this E:\\Python\\jupyter will be renamed \n",
      "['python 函数.ipynb', 'python 匿名函数lambda.ipynb', 'PYTHON-CLASSES.ipynb', 'python-dict-字典.ipynb', 'python-if-else等控制语句执行流程.ipynb', 'python-list-tuple数组和元组.ipynb', 'python-math-str-字符串和math.ipynb', 'python-testexe.ipynb', 'python-上下文管理器.ipynb', 'python-模块.ipynb', 'python-装饰器.ipynb', 'python-进阶.ipynb', 'python-迭代器iter-生成器-yield.ipynb', 'python-面向对象-继承-异常处理.ipynb', 'setup.ipynb', 'testexam0.xls', '文件和文件系统.ipynb']\n",
      "press y to continue.y\n",
      "please input the filename you want to rename and move.setup\n",
      "rename E:\\Python\\jupyter\\setup.ipynb to py end.\n"
     ]
    }
   ],
   "source": [
    "# 批量重命名，且复制文件到指定目录中去\n",
    "import os\n",
    "import shutil #文件复制操作\n",
    "# import py2exe \n",
    "\n",
    "perfix = 'ipynb'\n",
    "path = os.getcwd()\n",
    "#友好提示\n",
    "print('the files in this %s will be renamed ' % os.getcwd())\n",
    "allfiles = os.listdir(path)\n",
    "print([f for f in allfiles if os.path.isfile(f)])# 输出所有文件的名字不包括文件夹\n",
    "inputs = input('press y to continue.')\n",
    "renamefile = input('please input the filename you want to rename and move.')\n",
    "if inputs.lower() != 'y':\n",
    "    exit()\n",
    "\n",
    "oldname = path + \"\\\\\" + renamefile + '.ipynb'#需要命名的文件\n",
    "if os.path.exists(oldname):\n",
    "    newname = path + \"\\\\filecommand2\\\\\" + renamefile+ \".py\" ## 需要生成的文件\n",
    "    shutil.copyfile(oldname,newname)\n",
    "    print('rename %s to py end.' % oldname)\n",
    "else:\n",
    "    print('file %s is not here.' % oldname)\n",
    "    exit()\n"
   ]
  }
 ],
 "metadata": {
  "kernelspec": {
   "display_name": "Python 3",
   "language": "python",
   "name": "python3"
  },
  "language_info": {
   "codemirror_mode": {
    "name": "ipython",
    "version": 3
   },
   "file_extension": ".py",
   "mimetype": "text/x-python",
   "name": "python",
   "nbconvert_exporter": "python",
   "pygments_lexer": "ipython3",
   "version": "3.7.1"
  },
  "toc": {
   "base_numbering": 1,
   "nav_menu": {},
   "number_sections": true,
   "sideBar": true,
   "skip_h1_title": false,
   "title_cell": "Table of Contents",
   "title_sidebar": "Contents",
   "toc_cell": false,
   "toc_position": {},
   "toc_section_display": true,
   "toc_window_display": false
  }
 },
 "nbformat": 4,
 "nbformat_minor": 2
}
