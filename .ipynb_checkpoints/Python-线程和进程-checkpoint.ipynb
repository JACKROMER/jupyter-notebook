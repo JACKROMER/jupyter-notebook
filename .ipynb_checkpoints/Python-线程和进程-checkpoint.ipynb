{
 "cells": [
  {
   "cell_type": "markdown",
   "metadata": {},
   "source": [
    "\n",
    "# 线程和进程"
   ]
  },
  {
   "cell_type": "code",
   "execution_count": 20,
   "metadata": {
    "ExecuteTime": {
     "end_time": "2019-02-27T02:22:09.461964Z",
     "start_time": "2019-02-27T02:22:09.444971Z"
    }
   },
   "outputs": [
    {
     "name": "stdout",
     "output_type": "stream",
     "text": [
      "1;\n",
      "4;\n",
      "9;\n",
      "16;\n",
      "25;\n",
      "256;\n",
      "289;\n",
      "324;\n",
      "361;\n",
      "400;\n"
     ]
    }
   ],
   "source": [
    "# threading 多线程\n",
    "# subprocess 多进程\n",
    "# 线程中运行函数\n",
    "import threading\n",
    "def thrfun(x,y):\n",
    "    for i in range(x,y):\n",
    "        print(str(i*i) + ';')\n",
    "ta = threading.Thread(target=thrfun,args=(1,6))\n",
    "tb = threading.Thread(target=thrfun,args=(16,21))\n",
    "ta.start()\n",
    "tb.start()"
   ]
  },
  {
   "cell_type": "code",
   "execution_count": 44,
   "metadata": {
    "ExecuteTime": {
     "end_time": "2019-02-27T02:25:39.037888Z",
     "start_time": "2019-02-27T02:25:39.019909Z"
    }
   },
   "outputs": [
    {
     "name": "stdout",
     "output_type": "stream",
     "text": [
      "1;\n",
      "4;\n",
      "9;\n",
      "16;\n",
      "25;\n",
      "256;\n",
      "289;\n",
      "324;\n",
      "361;\n",
      "400;\n"
     ]
    }
   ],
   "source": [
    "# 继承threading.Thread 创建线程\n",
    "import threading\n",
    "\n",
    "class myThread(threading.Thread):\n",
    "    def __init__(self,num):\n",
    "        super().__init__()\n",
    "        self.num = num\n",
    "    \n",
    "    def run(self):\n",
    "        for i in range(self.num,self.num + 5):\n",
    "            print(str(i * i) + ';')\n",
    "\n",
    "ma = myThread(1)\n",
    "mb = myThread(16)\n",
    "ma.start()\n",
    "mb.start()"
   ]
  },
  {
   "cell_type": "code",
   "execution_count": 46,
   "metadata": {
    "ExecuteTime": {
     "end_time": "2019-02-27T02:38:09.400955Z",
     "start_time": "2019-02-27T02:38:09.393959Z"
    }
   },
   "outputs": [
    {
     "name": "stdout",
     "output_type": "stream",
     "text": [
      "1;\n",
      "4;\n",
      "9;\n",
      "16;\n",
      "25;\n",
      "256;\n",
      "289;\n",
      "324;\n",
      "361;\n",
      "400;\n"
     ]
    }
   ],
   "source": [
    "# thread join 方法 当某个线程或函数执行时需要等另一个线程完成操作才能继续\n",
    "import threading\n",
    "import time\n",
    "def thrfun(x,y,thr=None):\n",
    "    if thr:\n",
    "        thr.join()\n",
    "    else:\n",
    "        time.sleep(2)\n",
    "    for i in range(x,y):\n",
    "        print(str(i * i) + ';')\n",
    "ta = threading.Thread(target=thrfun,args=(1,6))\n",
    "tb = threading.Thread(target=thrfun,args=(16,21,ta))\n",
    "ta.start()\n",
    "tb.start()"
   ]
  },
  {
   "cell_type": "code",
   "execution_count": 54,
   "metadata": {
    "ExecuteTime": {
     "end_time": "2019-02-27T02:42:11.287724Z",
     "start_time": "2019-02-27T02:42:11.280741Z"
    }
   },
   "outputs": [],
   "source": [
    "# daemon 后台运行\n",
    "import threading\n",
    "import time\n",
    "class myThread(threading.Thread):\n",
    "    def __init__(self,num):\n",
    "        super().__init__()\n",
    "        self.num = num\n",
    "    \n",
    "    def run(self):\n",
    "        time.sleep(1)\n",
    "        for i in range(self.num,self.num + 5):\n",
    "            print(str(i * i) + ';')\n",
    "\n",
    "def main():\n",
    "    print('start...')\n",
    "    ma = myThread(1)\n",
    "    mb = myThread(16)\n",
    "    ma.daemon = False\n",
    "    mb.daemon = True\n",
    "    ma.start()\n",
    "    mb.start()\n",
    "    print('end...')\n",
    "    \n",
    "if __name__ == '__main':\n",
    "    main()"
   ]
  },
  {
   "cell_type": "code",
   "execution_count": 63,
   "metadata": {
    "ExecuteTime": {
     "end_time": "2019-02-27T02:53:12.180189Z",
     "start_time": "2019-02-27T02:53:12.174206Z"
    }
   },
   "outputs": [
    {
     "name": "stdout",
     "output_type": "stream",
     "text": [
      "30\n",
      "60\n",
      "90\n",
      "120\n",
      "150\n"
     ]
    }
   ],
   "source": [
    "# 线程同步 Lock RLock acquire release \n",
    "import threading\n",
    "import time\n",
    "class myThread(threading.Thread):\n",
    "    def run(self):\n",
    "        global x\n",
    "        lock.acquire()\n",
    "        for i in range(3):\n",
    "            x += 10\n",
    "        time.sleep(1)\n",
    "        print(x)\n",
    "        lock.release()\n",
    "x = 0\n",
    "lock = threading.RLock()\n",
    "def main():\n",
    "    thrs = []\n",
    "    for item in range(5):\n",
    "        thrs.append(myThread())\n",
    "    for item in thrs:\n",
    "        item.start() \n",
    "if __name__ == \"__main__\":\n",
    "    main()"
   ]
  },
  {
   "cell_type": "code",
   "execution_count": 64,
   "metadata": {
    "ExecuteTime": {
     "end_time": "2019-02-27T03:01:31.414626Z",
     "start_time": "2019-02-27T03:01:31.387628Z"
    }
   },
   "outputs": [
    {
     "name": "stdout",
     "output_type": "stream",
     "text": [
      "lisi good morning!\n",
      "zhangsan good morning!\n",
      "lisi how are you?\n",
      "zhangsan i am fine ,thank you.\n"
     ]
    }
   ],
   "source": [
    "#线程通信 Event set clear \n",
    "#通过Event 唤醒对方 模拟人物对话 wait 方法会使当前线程阻塞至true\n",
    "import threading\n",
    "import time\n",
    "\n",
    "class myThreada(threading.Thread):\n",
    "    def run(self):\n",
    "        evt.wait()\n",
    "        print(self.name,':good morning!')\n",
    "        evt.clear()#False\n",
    "        time.sleep(1)\n",
    "        evt.set() # true\n",
    "        time.sleep(1)\n",
    "        evt.wait()\n",
    "        print(self.name,':i am fine ,thank you.')\n",
    "\n",
    "class myThreadb(threading.Thread):\n",
    "    def run(self):\n",
    "        print(self.name,':good morning!')\n",
    "        evt.set()#true\n",
    "        time.sleep(1)\n",
    "        evt.wait()\n",
    "        print(self.name,':how are you?')\n",
    "        evt.clear()\n",
    "        time.sleep(1)\n",
    "        evt.set()\n",
    "\n",
    "evt = threading.Event()\n",
    "def main():\n",
    "    zhangsan = myThreada()\n",
    "    zhangsan.name = \"zhangsan\"\n",
    "    lisi = myThreadb()\n",
    "    lisi.name = \"lisi\"\n",
    "    zhangsan.start()\n",
    "    lisi.start()\n",
    "\n",
    "if __name__ == \"__main__\":\n",
    "    main()"
   ]
  }
 ],
 "metadata": {
  "kernelspec": {
   "display_name": "Python 3",
   "language": "python",
   "name": "python3"
  },
  "language_info": {
   "codemirror_mode": {
    "name": "ipython",
    "version": 3
   },
   "file_extension": ".py",
   "mimetype": "text/x-python",
   "name": "python",
   "nbconvert_exporter": "python",
   "pygments_lexer": "ipython3",
   "version": "3.7.1"
  },
  "toc": {
   "base_numbering": 1,
   "nav_menu": {},
   "number_sections": true,
   "sideBar": true,
   "skip_h1_title": false,
   "title_cell": "Table of Contents",
   "title_sidebar": "Contents",
   "toc_cell": false,
   "toc_position": {},
   "toc_section_display": true,
   "toc_window_display": false
  }
 },
 "nbformat": 4,
 "nbformat_minor": 2
}
