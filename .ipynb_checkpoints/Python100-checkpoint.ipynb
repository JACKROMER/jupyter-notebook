{
 "cells": [
  {
   "cell_type": "markdown",
   "metadata": {},
   "source": [
    "# python 100"
   ]
  },
  {
   "cell_type": "code",
   "execution_count": 4,
   "metadata": {
    "ExecuteTime": {
     "end_time": "2019-02-28T06:58:33.719174Z",
     "start_time": "2019-02-28T06:58:33.714184Z"
    },
    "collapsed": true
   },
   "outputs": [
    {
     "name": "stdout",
     "output_type": "stream",
     "text": [
      "1 2 3\n",
      "1 2 4\n",
      "1 3 2\n",
      "1 3 4\n",
      "1 4 2\n",
      "1 4 3\n",
      "2 1 3\n",
      "2 1 4\n",
      "2 3 1\n",
      "2 3 4\n",
      "2 4 1\n",
      "2 4 3\n",
      "3 1 2\n",
      "3 1 4\n",
      "3 2 1\n",
      "3 2 4\n",
      "3 4 1\n",
      "3 4 2\n",
      "4 1 2\n",
      "4 1 3\n",
      "4 2 1\n",
      "4 2 3\n",
      "4 3 1\n",
      "4 3 2\n"
     ]
    }
   ],
   "source": [
    "## 1 1 2 3 4 得到不重复的三位数 各是多少\n",
    "for i in range(1,5):\n",
    "    for j in range(1,5):\n",
    "        for k in range(1,5):\n",
    "            if (i!=k) and (i != j) and (j != k):\n",
    "                print (i,j,k)"
   ]
  },
  {
   "cell_type": "markdown",
   "metadata": {},
   "source": [
    "## 2 阶梯发总奖金"
   ]
  },
  {
   "cell_type": "code",
   "execution_count": 8,
   "metadata": {
    "ExecuteTime": {
     "end_time": "2019-02-28T07:08:19.667160Z",
     "start_time": "2019-02-28T07:08:15.654393Z"
    }
   },
   "outputs": [
    {
     "name": "stdout",
     "output_type": "stream",
     "text": [
      "please input your salary:102\n",
      "0.02\n",
      "i =  100\n",
      "0.6\n",
      "i =  60\n",
      "0.6\n",
      "i =  40\n",
      "1.0\n",
      "i =  20\n",
      "0.75\n",
      "i =  10\n",
      "1.0\n",
      "i =  0\n",
      "3.9699999999999998\n"
     ]
    }
   ],
   "source": [
    "i = int(input('please input your salary:'))\n",
    "arr = [100,60,40,20,10,0]\n",
    "rat = [0.01,0.015,0.03,0.05,0.075,0.1]\n",
    "r = 0\n",
    "for idx in range(0,6):\n",
    "    if i > arr[idx]:\n",
    "        r += (i-arr[idx])*rat[idx]\n",
    "        print((i-arr[idx])*rat[idx])\n",
    "        i=arr[idx]\n",
    "        print('i = ',i)\n",
    "print(r)"
   ]
  },
  {
   "cell_type": "code",
   "execution_count": 10,
   "metadata": {
    "ExecuteTime": {
     "end_time": "2019-02-28T07:24:38.923263Z",
     "start_time": "2019-02-28T07:24:38.918265Z"
    }
   },
   "outputs": [
    {
     "name": "stdout",
     "output_type": "stream",
     "text": [
      "-99.0\n",
      "21.0\n",
      "261.0\n",
      "1581.0\n"
     ]
    }
   ],
   "source": [
    "\n",
    "# 1、则：x + 100 = n2, x + 100 + 168 = m2\n",
    "\n",
    "# 2、计算等式：m2 - n2 = (m + n)(m - n) = 168\n",
    "\n",
    "# 3、设置： m + n = i，m - n = j，i * j =168，i 和 j 至少一个是偶数\n",
    "\n",
    "# 4、可得： m = (i + j) / 2， n = (i - j) / 2，i 和 j 要么都是偶数，要么都是奇数。\n",
    "\n",
    "# 5、从 3 和 4 推导可知道，i 与 j 均是大于等于 2 的偶数。\n",
    "\n",
    "# 6、由于 i * j = 168， j>=2，则 1 < i < 168 / 2 + 1。\n",
    "\n",
    "# 7、接下来将 i 的所有数字循环计算即可。\n",
    "for i in range(1,85):\n",
    "    if 168 % i == 0:\n",
    "        j = 168 / i\n",
    "        if i > j and (i+j)%2 ==0 and (i-j)%2 ==0:\n",
    "            m = (i+j)/2\n",
    "            n = (i-j)/2\n",
    "            x = n * n - 100\n",
    "            print(x)"
   ]
  },
  {
   "cell_type": "code",
   "execution_count": null,
   "metadata": {
    "ExecuteTime": {
     "start_time": "2019-02-28T07:29:02.795Z"
    }
   },
   "outputs": [],
   "source": [
    "#输入某年某月某日，判断这一天是这一年的第几天？\n",
    "year = int(input('year:\\n'))\n",
    "month = int(input('month:\\n'))\n",
    "day = int(input('day:\\n'))\n",
    " \n",
    "months = (0,31,59,90,120,151,181,212,243,273,304,334)\n",
    "if 0 < month <= 12:\n",
    "    sum = months[month - 1]\n",
    "else:\n",
    "    print ('data error')\n",
    "sum += day\n",
    "leap = 0\n",
    "if (year % 400 == 0) or ((year % 4 == 0) and (year % 100 != 0)):\n",
    "    leap = 1\n",
    "if (leap == 1) and (month > 2):\n",
    "    sum += 1\n",
    "print ('it is the %dth day.' % sum)"
   ]
  },
  {
   "cell_type": "markdown",
   "metadata": {},
   "source": [
    "## 斐波那契数列。"
   ]
  },
  {
   "cell_type": "code",
   "execution_count": 2,
   "metadata": {
    "ExecuteTime": {
     "end_time": "2019-02-28T07:41:14.688716Z",
     "start_time": "2019-02-28T07:41:14.679720Z"
    }
   },
   "outputs": [
    {
     "name": "stdout",
     "output_type": "stream",
     "text": [
      "ssdfasf\n",
      "55\n"
     ]
    }
   ],
   "source": [
    "# F0 = 0     (n=0)\n",
    "# F1 = 1    (n=1)\n",
    "# Fn = F[n-1]+ F[n-2](n=>2)\n",
    "def fib(n):\n",
    "    if n == 1 or n == 2:\n",
    "        return 1\n",
    "    return fib(n-1) + fib(n-2)\n",
    "\n",
    "print('ssdfasf')\n",
    "print(fib(10))\n",
    "\n",
    "# if __name__ == \"__main__\":\n",
    "#     x = input('please in put your num')\n",
    "#     for i in range(x):\n",
    "#         print(fib(i))\n",
    "\n"
   ]
  },
  {
   "cell_type": "code",
   "execution_count": 4,
   "metadata": {
    "ExecuteTime": {
     "end_time": "2019-02-28T07:46:37.217976Z",
     "start_time": "2019-02-28T07:46:37.211979Z"
    }
   },
   "outputs": [
    {
     "name": "stdout",
     "output_type": "stream",
     "text": [
      "[1, 1, 2, 3, 5, 8, 13, 21, 34, 55]\n"
     ]
    }
   ],
   "source": [
    "def fib(n):\n",
    "    if n == 1:\n",
    "        return [1]\n",
    "    if n == 2:\n",
    "        return [1, 1]\n",
    "    fibs = [1, 1]\n",
    "    for i in range(2, n):\n",
    "        fibs.append(fibs[-1] + fibs[-2])\n",
    "    return fibs\n",
    " \n",
    "# 输出前 10 个斐波那契数列\n",
    "print(fib(10))"
   ]
  },
  {
   "cell_type": "code",
   "execution_count": 6,
   "metadata": {
    "ExecuteTime": {
     "end_time": "2019-02-28T07:47:27.089926Z",
     "start_time": "2019-02-28T07:47:27.085916Z"
    }
   },
   "outputs": [
    {
     "name": "stdout",
     "output_type": "stream",
     "text": [
      "[1, 2, 3]\n"
     ]
    }
   ],
   "source": [
    "a = [1,2,3]\n",
    "b = a[:]\n",
    "print(b)"
   ]
  },
  {
   "cell_type": "code",
   "execution_count": 21,
   "metadata": {
    "ExecuteTime": {
     "end_time": "2019-02-28T08:33:52.682243Z",
     "start_time": "2019-02-28T08:33:52.677246Z"
    }
   },
   "outputs": [
    {
     "name": "stdout",
     "output_type": "stream",
     "text": [
      " \n",
      " 1*1=1 \n",
      " 2*1=2 2*2=4 \n",
      " 3*1=3 3*2=6 3*3=9 \n",
      " 4*1=4 4*2=8 4*3=12 4*4=16 \n",
      " 5*1=5 5*2=10 5*3=15 5*4=20 5*5=25 \n",
      " 6*1=6 6*2=12 6*3=18 6*4=24 6*5=30 6*6=36 \n",
      " 7*1=7 7*2=14 7*3=21 7*4=28 7*5=35 7*6=42 7*7=49 \n",
      " 8*1=8 8*2=16 8*3=24 8*4=32 8*5=40 8*6=48 8*7=56 8*8=64 \n",
      " 9*1=9 9*2=18 9*3=27 9*4=36 9*5=45 9*6=54 9*7=63 9*8=72 9*9=81"
     ]
    }
   ],
   "source": [
    "#乘法口诀表\n",
    "for i in range(1,10):\n",
    "    print(\" \")\n",
    "    for j in range(1,i+1):\n",
    "        print(\" %d*%d=%d\" % (i,j,i*j),end=\"\")\n",
    "        \n"
   ]
  },
  {
   "cell_type": "code",
   "execution_count": 33,
   "metadata": {
    "ExecuteTime": {
     "end_time": "2019-02-28T08:37:49.762354Z",
     "start_time": "2019-02-28T08:37:48.752913Z"
    }
   },
   "outputs": [
    {
     "name": "stdout",
     "output_type": "stream",
     "text": [
      "time.struct_time(tm_year=2019, tm_mon=2, tm_mday=28, tm_hour=16, tm_min=37, tm_sec=48, tm_wday=3, tm_yday=59, tm_isdst=0)\n",
      "2019-02-28 16:37:48\n",
      "2019-02-28 16:37:48\n"
     ]
    }
   ],
   "source": [
    "import time\n",
    "s = time.localtime(time.time())\n",
    "print(s)\n",
    "print(time.strftime('%Y-%m-%d %H:%M:%S',s))\n",
    "# 暂停一秒\n",
    "time.sleep(1)\n",
    "print(time.strftime('%Y-%m-%d %H:%M:%S',s))"
   ]
  },
  {
   "cell_type": "code",
   "execution_count": 42,
   "metadata": {
    "ExecuteTime": {
     "end_time": "2019-02-28T08:52:56.494057Z",
     "start_time": "2019-02-28T08:52:56.489061Z"
    }
   },
   "outputs": [
    {
     "name": "stdout",
     "output_type": "stream",
     "text": [
      "           1            1           2            3           5            8-\n",
      "          13           21          34           55          89          144-\n",
      "         233          377         610          987        1597         2584-\n",
      "        4181         6765       10946        17711       28657        46368-\n",
      "       75025       121393      196418       317811      514229       832040-\n",
      "     1346269      2178309     3524578      5702887     9227465     14930352-\n",
      "    24157817     39088169    63245986    102334155   165580141    267914296-\n"
     ]
    }
   ],
   "source": [
    "#兔子生兔子问题\n",
    "f1 = 1\n",
    "f2 = 1\n",
    "for i in range(1,22):\n",
    "    print('%12ld %12ld' % (f1,f2),end=\"\")\n",
    "    if (i%3) == 0:\n",
    "        print('-')\n",
    "    f1 = f1 + f2\n",
    "    f2 = f1 + f2"
   ]
  },
  {
   "cell_type": "markdown",
   "metadata": {},
   "source": [
    "## 素数"
   ]
  },
  {
   "cell_type": "code",
   "execution_count": 43,
   "metadata": {
    "ExecuteTime": {
     "end_time": "2019-02-28T08:53:25.296717Z",
     "start_time": "2019-02-28T08:53:25.289722Z"
    },
    "collapsed": true
   },
   "outputs": [
    {
     "name": "stdout",
     "output_type": "stream",
     "text": [
      "101 \n",
      "103 \n",
      "107 \n",
      "109 \n",
      "113 \n",
      "127 \n",
      "131 \n",
      "137 \n",
      "139 \n",
      "149 \n",
      " \n",
      "151 \n",
      "157 \n",
      "163 \n",
      "167 \n",
      "173 \n",
      "179 \n",
      "181 \n",
      "191 \n",
      "193 \n",
      "197 \n",
      " \n",
      "199 \n",
      "total is 21\n"
     ]
    }
   ],
   "source": [
    "\n",
    "h = 0\n",
    "leap = 1\n",
    "from math import sqrt\n",
    "from sys import stdout\n",
    "for m in range(101,200):\n",
    "    k = int(sqrt(m+1))\n",
    "    for i in range(2,k+1):\n",
    "        if m%i ==0:\n",
    "            leap =0\n",
    "            break\n",
    "    if leap == 1:\n",
    "        print('%-4d' % m)\n",
    "        h += 1\n",
    "        if h %10 == 0:\n",
    "            print(' ')\n",
    "    leap =1\n",
    "print('total is %d' % h)"
   ]
  },
  {
   "cell_type": "code",
   "execution_count": 52,
   "metadata": {
    "ExecuteTime": {
     "end_time": "2019-02-28T08:58:55.347077Z",
     "start_time": "2019-02-28T08:58:55.341081Z"
    }
   },
   "outputs": [
    {
     "name": "stdout",
     "output_type": "stream",
     "text": [
      "153\n",
      "370\n",
      "371\n",
      "407\n"
     ]
    }
   ],
   "source": [
    "# 水仙花数\n",
    "for n in range(100,1000):\n",
    "    i = n // 100\n",
    "    j = n // 10 %10\n",
    "    k = n % 10\n",
    "#     print(i,j,k)\n",
    "    if n == i**3 + j**3 + k **3:\n",
    "        print(n)"
   ]
  },
  {
   "cell_type": "code",
   "execution_count": null,
   "metadata": {
    "ExecuteTime": {
     "start_time": "2019-02-28T09:02:15.788Z"
    }
   },
   "outputs": [],
   "source": [
    "#student score level\n",
    "score = int(input('please input your score'))\n",
    "if score >= 90 :\n",
    "    grade = 'A'\n",
    "elif score >= 60:\n",
    "    grade = 'B'\n",
    "else:\n",
    "    grade ='C'\n",
    "print(grade)\n",
    "    "
   ]
  },
  {
   "cell_type": "code",
   "execution_count": 2,
   "metadata": {
    "ExecuteTime": {
     "end_time": "2019-02-28T09:04:17.303004Z",
     "start_time": "2019-02-28T09:04:17.298992Z"
    }
   },
   "outputs": [
    {
     "name": "stdout",
     "output_type": "stream",
     "text": [
      "28/02/2019\n"
     ]
    }
   ],
   "source": [
    "import datetime\n",
    " \n",
    "if __name__ == '__main__':\n",
    "    # 输出今日日期，格式为 dd/mm/yyyy。更多选项可以查看 strftime() 方法\n",
    "    s = datetime.date.today().strftime('%d/%m/%Y')\n",
    "    print(s)"
   ]
  },
  {
   "cell_type": "code",
   "execution_count": null,
   "metadata": {
    "ExecuteTime": {
     "start_time": "2019-02-28T09:11:26.737Z"
    }
   },
   "outputs": [],
   "source": [
    "tn = 0\n",
    "result = []\n",
    "n = int(input('n:'))\n",
    "m = int(input('m:'))\n",
    "\n",
    "for count in range(n):\n",
    "    tn = tn + m\n",
    "    m = m *10\n",
    "    result.append(tn)\n",
    "    print(tn)\n",
    "result = lambda x,y:x+y,result\n",
    "print(result)"
   ]
  },
  {
   "cell_type": "code",
   "execution_count": 15,
   "metadata": {
    "ExecuteTime": {
     "end_time": "2019-02-28T09:39:17.052561Z",
     "start_time": "2019-02-28T09:39:17.048563Z"
    }
   },
   "outputs": [
    {
     "name": "stdout",
     "output_type": "stream",
     "text": [
      "1534\n"
     ]
    }
   ],
   "source": [
    "#猴子吃桃子问题\n",
    "x2 = 1\n",
    "for day in range(9,0,-1):\n",
    "    x1 = (x2 +1) *2\n",
    "    x2 = x1\n",
    "print(x1)"
   ]
  },
  {
   "cell_type": "code",
   "execution_count": 21,
   "metadata": {
    "ExecuteTime": {
     "end_time": "2019-02-28T09:40:43.834336Z",
     "start_time": "2019-02-28T09:40:43.830352Z"
    }
   },
   "outputs": [
    {
     "name": "stdout",
     "output_type": "stream",
     "text": [
      "2\n",
      "1\n"
     ]
    }
   ],
   "source": [
    "a = ['1','2']\n",
    "b = a[::-1]\n",
    "for i in b:\n",
    "    print(i)"
   ]
  },
  {
   "cell_type": "code",
   "execution_count": 24,
   "metadata": {
    "ExecuteTime": {
     "end_time": "2019-02-28T09:41:49.659798Z",
     "start_time": "2019-02-28T09:41:49.655801Z"
    }
   },
   "outputs": [
    {
     "name": "stdout",
     "output_type": "stream",
     "text": [
      "1,;2,;3\n"
     ]
    }
   ],
   "source": [
    "l = [1,2,3]\n",
    "s = ',;'.join(str(n) for n in l)\n",
    "print(s)"
   ]
  },
  {
   "cell_type": "code",
   "execution_count": 30,
   "metadata": {
    "ExecuteTime": {
     "end_time": "2019-02-28T09:43:32.640732Z",
     "start_time": "2019-02-28T09:43:32.636748Z"
    }
   },
   "outputs": [
    {
     "name": "stdout",
     "output_type": "stream",
     "text": [
      "\u001b[95m警告的颜色字体?\u001b[95m\n"
     ]
    }
   ],
   "source": [
    "class bcolors:\n",
    "    HEADER = '\\033[95m'\n",
    "    OKBLUE = '\\033[94m'\n",
    "    OKGREEN = '\\033[92m'\n",
    "    WARNING = '\\033[93m'\n",
    "    FAIL = '\\033[91m'\n",
    "    ENDC = '\\033[0m'\n",
    "    BOLD = '\\033[1m'\n",
    "    UNDERLINE = '\\033[4m'\n",
    "print (bcolors.HEADER + \"警告的颜色字体?\" + bcolors.HEADER)"
   ]
  },
  {
   "cell_type": "code",
   "execution_count": null,
   "metadata": {
    "ExecuteTime": {
     "start_time": "2019-02-28T09:51:02.460Z"
    }
   },
   "outputs": [],
   "source": [
    "dic = []\n",
    "for i in range(10):\n",
    "    x = int(input('input your number:'))\n",
    "    dic.append(x)\n",
    "\n",
    "print(dic)\n",
    "for i in range(1,len(dic)):\n",
    "    key = dic[i]\n",
    "    j = i - 1\n",
    "    while j >= 0:\n",
    "        if dic[j] > key:\n",
    "            dic[j+1] = dic[j]\n",
    "            dic[j] = key\n",
    "        j -= 1\n",
    "print(dic)\n",
    "    "
   ]
  },
  {
   "cell_type": "code",
   "execution_count": 7,
   "metadata": {
    "ExecuteTime": {
     "end_time": "2019-02-28T10:00:57.757184Z",
     "start_time": "2019-02-28T10:00:57.751199Z"
    }
   },
   "outputs": [
    {
     "name": "stdout",
     "output_type": "stream",
     "text": [
      "[-100, -5, 4, 4, 7, 7, 8, 9, 122]\n"
     ]
    }
   ],
   "source": [
    "#冒泡排序\n",
    "def do():\n",
    "    dic = [4,-5,4,7,8,9,122,-100,7]\n",
    "    for i in range(0,len(dic)):\n",
    "        for j in range(i+1,len(dic)):\n",
    "            if dic[i] > dic[j]:\n",
    "                dic[i],dic[j] = dic[j],dic[i]#交换\n",
    "    print(dic)\n",
    "\n",
    "do()"
   ]
  },
  {
   "cell_type": "code",
   "execution_count": 14,
   "metadata": {
    "ExecuteTime": {
     "end_time": "2019-02-28T10:03:20.233017Z",
     "start_time": "2019-02-28T10:03:20.229033Z"
    }
   },
   "outputs": [
    {
     "name": "stdout",
     "output_type": "stream",
     "text": [
      "6\n",
      "5\n",
      "4\n",
      "3\n",
      "2\n",
      "1\n"
     ]
    }
   ],
   "source": [
    "dic = [1,2,3,4,5,6]\n",
    "dic2 = dic[::-1]\n",
    "for i in dic2:\n",
    "    print(i)"
   ]
  },
  {
   "cell_type": "code",
   "execution_count": 19,
   "metadata": {
    "ExecuteTime": {
     "end_time": "2019-03-01T07:06:50.799575Z",
     "start_time": "2019-03-01T07:06:50.793578Z"
    }
   },
   "outputs": [
    {
     "name": "stdout",
     "output_type": "stream",
     "text": [
      "[9, 6, 5, 4, 1]\n",
      "[1, 4, 5, 6, 9]\n"
     ]
    }
   ],
   "source": [
    "# 逆序输出数组\n",
    "if __name__ == '__main__':\n",
    "    a = [9,6,5,4,1]\n",
    "    N = len(a) \n",
    "    print(a)\n",
    "    for i in range(len(a) // 2):\n",
    "        a[i],a[N - i - 1] = a[N - i - 1],a[i]\n",
    "    print(a)"
   ]
  },
  {
   "cell_type": "code",
   "execution_count": 33,
   "metadata": {
    "ExecuteTime": {
     "end_time": "2019-03-01T07:10:35.248799Z",
     "start_time": "2019-03-01T07:10:35.244801Z"
    }
   },
   "outputs": [
    {
     "name": "stdout",
     "output_type": "stream",
     "text": [
      "[519, 884, 396, 953, 722, 641, 799, 689, 811, 898]\n"
     ]
    }
   ],
   "source": [
    "import random\n",
    "dic = []\n",
    "for i in range(10):\n",
    "    dic.append(random.randrange(100,999))\n",
    "print(dic)\n"
   ]
  },
  {
   "cell_type": "code",
   "execution_count": 38,
   "metadata": {
    "ExecuteTime": {
     "end_time": "2019-03-01T07:12:33.235627Z",
     "start_time": "2019-03-01T07:12:33.231617Z"
    }
   },
   "outputs": [
    {
     "name": "stdout",
     "output_type": "stream",
     "text": [
      "0\n"
     ]
    }
   ],
   "source": [
    "# 按位与& 有0说0\n",
    "# 按位| 有一说一\n",
    "# 按位^  同为零，异为1\n",
    "a = 0\n",
    "b = 2\n",
    "print(a^b&a)"
   ]
  },
  {
   "cell_type": "code",
   "execution_count": null,
   "metadata": {
    "ExecuteTime": {
     "start_time": "2019-03-01T07:20:31.626Z"
    }
   },
   "outputs": [],
   "source": [
    "#取a的右端4-7位\n",
    "if __name__ == \"__main__\":\n",
    "    a = int(input('input a num:'))\n",
    "    b = a>>4\n",
    "    c = ~(~0 << 4)\n",
    "    d = b & c\n",
    "    print('%o\\t%o' % (a,d))"
   ]
  },
  {
   "cell_type": "code",
   "execution_count": 14,
   "metadata": {
    "ExecuteTime": {
     "end_time": "2019-03-01T07:28:03.254728Z",
     "start_time": "2019-03-01T07:28:01.452764Z"
    }
   },
   "outputs": [],
   "source": [
    "import tkinter\n",
    "from tkinter.constants import *\n",
    "root = tkinter.Tk()\n",
    "if __name__ == '__main__':\n",
    "    canvas = tkinter.Canvas(root,\n",
    "                       width=600,\n",
    "                       height=600,\n",
    "                       bg = 'yellow')\n",
    "    canvas.pack(expand=YES, fill=BOTH)                \n",
    "    k = 1\n",
    "    j = 1\n",
    "    for i in range(0,26):\n",
    "        canvas.create_oval(310 - k,250 - k,310 + k,250 + k, width=2)\n",
    "        k += j\n",
    "        j += 0.3\n",
    "    for i in range(0,26):\n",
    "        canvas.create_oval(310 - k,250 - k,310 + k,250 + k, width=2)\n",
    "        k += j\n",
    "        j += 0.5\n",
    "    root.mainloop()\n",
    "    "
   ]
  },
  {
   "cell_type": "code",
   "execution_count": 22,
   "metadata": {
    "ExecuteTime": {
     "end_time": "2019-03-01T07:33:13.421427Z",
     "start_time": "2019-03-01T07:33:11.828343Z"
    }
   },
   "outputs": [],
   "source": [
    "import tkinter\n",
    "from tkinter.constants import *\n",
    "root = tkinter.Tk()\n",
    "if __name__ == '__main__':\n",
    "    \n",
    "    canvas = tkinter.Canvas(width=300, height=300, bg='green')   \n",
    "    canvas.pack(expand=YES, fill=BOTH)                  \n",
    "    x0 = 263\n",
    "    y0 = 263\n",
    "    y1 = 275\n",
    "    x1 = 275\n",
    "    for i in range(19):\n",
    "        canvas.create_line(x0,y0,x0,y1, width=1, fill='red')\n",
    "        x0 = x0 - 5\n",
    "        y0 = y0 - 5\n",
    "        x1 = x1 + 5\n",
    "        y1 = y1 + 5\n",
    " \n",
    "    x0 = 263\n",
    "    y1 = 275\n",
    "    y0 = 263\n",
    "    for i in range(21):\n",
    "        canvas.create_line(x0,y0,x0,y1,fill = 'red')\n",
    "        x0 += 5\n",
    "        y0 += 5\n",
    "        y1 += 5\n",
    " \n",
    "    root.mainloop()"
   ]
  },
  {
   "cell_type": "code",
   "execution_count": 24,
   "metadata": {
    "ExecuteTime": {
     "end_time": "2019-03-01T07:33:42.599101Z",
     "start_time": "2019-03-01T07:33:42.590108Z"
    },
    "collapsed": true
   },
   "outputs": [
    {
     "name": "stdout",
     "output_type": "stream",
     "text": [
      "1 \n",
      "1 1 \n",
      "1 2 1 \n",
      "1 3 3 1 \n",
      "1 4 6 4 1 \n",
      "1 5 10 10 5 1 \n",
      "1 6 15 20 15 6 1 \n",
      "1 7 21 35 35 21 7 1 \n",
      "1 8 28 56 70 56 28 8 1 \n",
      "1 9 36 84 126 126 84 36 9 1 \n"
     ]
    }
   ],
   "source": [
    "#!/usr/bin/python\n",
    "# -*- coding: UTF-8 -*-\n",
    "# 杨辉三角形 \n",
    "if __name__ == '__main__':\n",
    "    a = []\n",
    "    for i in range(10):\n",
    "        a.append([])\n",
    "        for j in range(10):\n",
    "            a[i].append(0)\n",
    "    for i in range(10):\n",
    "        a[i][0] = 1\n",
    "        a[i][i] = 1\n",
    "    for i in range(2,10):\n",
    "        for j in range(1,i):\n",
    "            a[i][j] = a[i - 1][j-1] + a[i - 1][j]\n",
    "    from sys import stdout\n",
    "    for i in range(10):\n",
    "        for j in range(i + 1):\n",
    "            stdout.write(str(a[i][j]))\n",
    "            stdout.write(' ')\n",
    "        print()"
   ]
  },
  {
   "cell_type": "code",
   "execution_count": 30,
   "metadata": {
    "ExecuteTime": {
     "end_time": "2019-03-01T07:36:17.012796Z",
     "start_time": "2019-03-01T07:36:17.007811Z"
    }
   },
   "outputs": [
    {
     "name": "stdout",
     "output_type": "stream",
     "text": [
      "0\n"
     ]
    }
   ],
   "source": [
    "str1 = \"hello world hello\"\n",
    "str2 = \"hel\"\n",
    "s = str1.find(str2)\n",
    "print(s)"
   ]
  },
  {
   "cell_type": "markdown",
   "metadata": {},
   "source": [
    "## 画椭圆"
   ]
  },
  {
   "cell_type": "code",
   "execution_count": 33,
   "metadata": {
    "ExecuteTime": {
     "end_time": "2019-03-01T07:38:45.188124Z",
     "start_time": "2019-03-01T07:38:43.487005Z"
    }
   },
   "outputs": [],
   "source": [
    "\n",
    "import tkinter\n",
    "from tkinter.constants import *\n",
    "root = tkinter.Tk()\n",
    "if __name__ == '__main__':\n",
    "    \n",
    "    x = 360\n",
    "    y = 160\n",
    "    top = y - 30\n",
    "    bottom = y - 30\n",
    "    \n",
    "    canvas = tkinter.Canvas(width = 400,height = 600,bg = 'yellow')\n",
    "    for i in range(20):\n",
    "        canvas.create_oval(250 - top,250 - bottom,250 + top,250 + bottom)\n",
    "        top -= 5\n",
    "        bottom += 5\n",
    "    canvas.pack()\n",
    "    root.mainloop()"
   ]
  },
  {
   "cell_type": "code",
   "execution_count": 38,
   "metadata": {
    "ExecuteTime": {
     "end_time": "2019-03-01T07:57:48.185934Z",
     "start_time": "2019-03-01T07:57:46.570862Z"
    }
   },
   "outputs": [],
   "source": [
    "import tkinter\n",
    "from tkinter.constants import *\n",
    "root = tkinter.Tk()\n",
    "import math\n",
    "class PTS:\n",
    "    def __init__(self):\n",
    "        self.x = 0\n",
    "        self.y = 0\n",
    "points = []\n",
    "\n",
    "def LineToDemo():\n",
    "    screenx = 400\n",
    "    screeny = 400\n",
    "    canvas = tkinter.Canvas(width = screenx,height = screeny,bg = 'white')\n",
    "\n",
    "    AspectRatio = 0.85\n",
    "    MAXPTS = 15\n",
    "    h = screeny\n",
    "    w = screenx\n",
    "    xcenter = w / 2\n",
    "    ycenter = h / 2\n",
    "    radius = (h - 30) / (AspectRatio * 2) - 20\n",
    "    step = 360 / MAXPTS\n",
    "    angle = 0.0\n",
    "    for i in range(MAXPTS):\n",
    "        rads = angle * math.pi / 180.0\n",
    "        p = PTS()\n",
    "        p.x = xcenter + int(math.cos(rads) * radius)\n",
    "        p.y = ycenter - int(math.sin(rads) * radius * AspectRatio)\n",
    "        angle += step\n",
    "        points.append(p)\n",
    "    canvas.create_oval(xcenter - radius,ycenter - radius,\n",
    "                       xcenter + radius,ycenter + radius)\n",
    "    for i in range(MAXPTS):\n",
    "        for j in range(i,MAXPTS):\n",
    "            canvas.create_line(points[i].x,points[i].y,points[j].x,points[j].y)\n",
    "\n",
    "    canvas.pack()\n",
    "    root.mainloop()\n",
    "if __name__ == '__main__':\n",
    "    LineToDemo()"
   ]
  },
  {
   "cell_type": "code",
   "execution_count": 41,
   "metadata": {
    "ExecuteTime": {
     "end_time": "2019-03-01T07:59:09.341635Z",
     "start_time": "2019-03-01T07:59:09.336639Z"
    }
   },
   "outputs": [
    {
     "name": "stdout",
     "output_type": "stream",
     "text": [
      "[1, 2, 3, 4, 4, 5, 7, 8]\n",
      "[1, 2, 3, 4, 4, 5, 7, 8]\n"
     ]
    }
   ],
   "source": [
    "a = [1,2,3,4]\n",
    "b = [4,5,7,8]\n",
    "a.sort()\n",
    "print(a+b)\n",
    "a.extend(b)\n",
    "print(a)"
   ]
  },
  {
   "cell_type": "code",
   "execution_count": 45,
   "metadata": {
    "ExecuteTime": {
     "end_time": "2019-03-01T08:28:20.433665Z",
     "start_time": "2019-03-01T08:28:20.428667Z"
    }
   },
   "outputs": [
    {
     "name": "stdout",
     "output_type": "stream",
     "text": [
      "2015-08-28 12:00:00\n"
     ]
    }
   ],
   "source": [
    "from dateutil import parser\n",
    "dt = parser.parse(\"Aug 28 2015 12:00PM\")\n",
    "print(dt)"
   ]
  },
  {
   "cell_type": "code",
   "execution_count": 47,
   "metadata": {
    "ExecuteTime": {
     "end_time": "2019-03-01T08:28:39.099005Z",
     "start_time": "2019-03-01T08:28:39.095022Z"
    }
   },
   "outputs": [
    {
     "name": "stdout",
     "output_type": "stream",
     "text": [
      "{'a': 'b', 1: 2}\n"
     ]
    }
   ],
   "source": [
    "# 列表转字典\n",
    "i = ['a', 'b']\n",
    "l = [1, 2]\n",
    "print(dict([i,l]))"
   ]
  }
 ],
 "metadata": {
  "kernelspec": {
   "display_name": "Python 3",
   "language": "python",
   "name": "python3"
  },
  "language_info": {
   "codemirror_mode": {
    "name": "ipython",
    "version": 3
   },
   "file_extension": ".py",
   "mimetype": "text/x-python",
   "name": "python",
   "nbconvert_exporter": "python",
   "pygments_lexer": "ipython3",
   "version": "3.7.1"
  },
  "toc": {
   "base_numbering": 1,
   "nav_menu": {},
   "number_sections": true,
   "sideBar": true,
   "skip_h1_title": false,
   "title_cell": "Table of Contents",
   "title_sidebar": "Contents",
   "toc_cell": false,
   "toc_position": {},
   "toc_section_display": true,
   "toc_window_display": false
  }
 },
 "nbformat": 4,
 "nbformat_minor": 2
}
