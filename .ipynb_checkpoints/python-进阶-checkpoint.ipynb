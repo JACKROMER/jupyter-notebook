{
 "cells": [
  {
   "cell_type": "markdown",
   "metadata": {},
   "source": [
    "## python-进阶"
   ]
  },
  {
   "cell_type": "code",
   "execution_count": null,
   "metadata": {},
   "outputs": [],
   "source": [
    "### 函数和命名空间"
   ]
  },
  {
   "cell_type": "code",
   "execution_count": 8,
   "metadata": {
    "ExecuteTime": {
     "end_time": "2018-12-03T09:35:20.919105Z",
     "start_time": "2018-12-03T09:35:20.915107Z"
    }
   },
   "outputs": [
    {
     "name": "stdout",
     "output_type": "stream",
     "text": [
      "bar fun \n",
      "current module\n",
      "foo fun\n",
      "Foo module\n",
      "foo fun\n",
      "Foo module\n"
     ]
    }
   ],
   "source": [
    "import sys\n",
    "#在module的path中临时添加指定的python文件目录，防止引入文件报错\n",
    "sys.path.append('E:\\Python\\jupyter\\pyfile')\n",
    "from python_foofun import foofun\n",
    "\n",
    "name = 'current module'\n",
    "def bar():\n",
    "    print('bar fun ')\n",
    "    print(name)\n",
    "    \n",
    "def call_foofun(fun):\n",
    "    fun()\n",
    "\n",
    "if __name__ == '__main__':\n",
    "    bar()\n",
    "    foofun()\n",
    "    call_foofun(foofun)"
   ]
  },
  {
   "cell_type": "markdown",
   "metadata": {},
   "source": [
    "## 闭包及应用"
   ]
  },
  {
   "cell_type": "code",
   "execution_count": 11,
   "metadata": {
    "ExecuteTime": {
     "end_time": "2018-12-03T09:39:06.976097Z",
     "start_time": "2018-12-03T09:39:06.971100Z"
    }
   },
   "outputs": [
    {
     "name": "stdout",
     "output_type": "stream",
     "text": [
      "x is  3\n"
     ]
    }
   ],
   "source": [
    "x = 15\n",
    "def foo():\n",
    "    x = 3\n",
    "    def bar():\n",
    "        print('x is ',x)\n",
    "    bar()\n",
    "    \n",
    "if __name__ == '__main__':\n",
    "    foo()"
   ]
  }
 ],
 "metadata": {
  "kernelspec": {
   "display_name": "Python 3",
   "language": "python",
   "name": "python3"
  },
  "language_info": {
   "codemirror_mode": {
    "name": "ipython",
    "version": 3
   },
   "file_extension": ".py",
   "mimetype": "text/x-python",
   "name": "python",
   "nbconvert_exporter": "python",
   "pygments_lexer": "ipython3",
   "version": "3.7.1"
  },
  "toc": {
   "base_numbering": 1,
   "nav_menu": {},
   "number_sections": true,
   "sideBar": true,
   "skip_h1_title": false,
   "title_cell": "Table of Contents",
   "title_sidebar": "Contents",
   "toc_cell": false,
   "toc_position": {},
   "toc_section_display": true,
   "toc_window_display": false
  }
 },
 "nbformat": 4,
 "nbformat_minor": 2
}
