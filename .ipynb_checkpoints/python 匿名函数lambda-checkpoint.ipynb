{
 "cells": [
  {
   "cell_type": "markdown",
   "metadata": {},
   "source": [
    "## 匿名函数lambda"
   ]
  },
  {
   "cell_type": "code",
   "execution_count": 9,
   "metadata": {
    "collapsed": true
   },
   "outputs": [
    {
     "data": {
      "text/plain": [
       "[-6, 5, -4, 3, -2, -1, 0]"
      ]
     },
     "execution_count": 9,
     "metadata": {},
     "output_type": "execute_result"
    }
   ],
   "source": [
    "list1 = [3,5,-4,-1,0,-2,-6]\n",
    "sorted(list1, key = lambda x: abs(x) ** 2, reverse=True)"
   ]
  },
  {
   "cell_type": "code",
   "execution_count": 1,
   "metadata": {
    "ExecuteTime": {
     "end_time": "2019-01-21T09:26:06.989062Z",
     "start_time": "2019-01-21T09:26:06.979068Z"
    },
    "collapsed": true
   },
   "outputs": [
    {
     "data": {
      "text/plain": [
       "49284"
      ]
     },
     "execution_count": 1,
     "metadata": {},
     "output_type": "execute_result"
    }
   ],
   "source": [
    "fc = lambda x:x**2\n",
    "fc(222)"
   ]
  },
  {
   "cell_type": "code",
   "execution_count": 2,
   "metadata": {
    "ExecuteTime": {
     "end_time": "2019-01-21T09:26:08.301967Z",
     "start_time": "2019-01-21T09:26:08.295957Z"
    },
    "collapsed": true
   },
   "outputs": [
    {
     "name": "stdout",
     "output_type": "stream",
     "text": [
      "[18, 9, 24, 12, 27]\n",
      "[2, 18, 22, 24, 8, 12]\n",
      "[14, 46, 28, 54, 44, 58, 26, 34, 64]\n",
      "7538116608\n"
     ]
    }
   ],
   "source": [
    "from functools import reduce \n",
    "\n",
    "foo = [2, 18, 9, 22, 17, 24, 8, 12, 27]\n",
    " \n",
    "print (list(filter(lambda x: x % 3 == 0, foo)))\n",
    "\n",
    "list2 = list(filter(lambda x:x % 2 == 0,foo))\n",
    "print(list2)\n",
    "\n",
    "print (list(map(lambda x: x * 2 + 10, foo)))\n",
    "    \n",
    "print (reduce(lambda x, y: x * y, foo))\n"
   ]
  },
  {
   "cell_type": "code",
   "execution_count": 4,
   "metadata": {
    "ExecuteTime": {
     "end_time": "2019-01-21T09:27:36.334344Z",
     "start_time": "2019-01-21T09:27:36.328361Z"
    },
    "collapsed": true
   },
   "outputs": [
    {
     "name": "stdout",
     "output_type": "stream",
     "text": [
      "0b1100100\n",
      "0x64\n",
      "0o144\n"
     ]
    },
    {
     "data": {
      "text/plain": [
       "[16, 20, 18, 14]"
      ]
     },
     "execution_count": 4,
     "metadata": {},
     "output_type": "execute_result"
    }
   ],
   "source": [
    "l = 100\n",
    "x = bin(l)\n",
    "y = hex(l)\n",
    "z = oct(l)\n",
    "print(x)\n",
    "print(y)\n",
    "print(z)\n",
    "lst = [7,9,8,6]\n",
    "nlst = list(map(lambda x:x * 2 + 2,lst))\n",
    "nlst\n"
   ]
  }
 ],
 "metadata": {
  "kernelspec": {
   "display_name": "Python 3",
   "language": "python",
   "name": "python3"
  },
  "language_info": {
   "codemirror_mode": {
    "name": "ipython",
    "version": 3
   },
   "file_extension": ".py",
   "mimetype": "text/x-python",
   "name": "python",
   "nbconvert_exporter": "python",
   "pygments_lexer": "ipython3",
   "version": "3.7.1"
  },
  "toc": {
   "base_numbering": 1,
   "nav_menu": {},
   "number_sections": true,
   "sideBar": true,
   "skip_h1_title": false,
   "title_cell": "Table of Contents",
   "title_sidebar": "Contents",
   "toc_cell": false,
   "toc_position": {},
   "toc_section_display": true,
   "toc_window_display": false
  }
 },
 "nbformat": 4,
 "nbformat_minor": 2
}
