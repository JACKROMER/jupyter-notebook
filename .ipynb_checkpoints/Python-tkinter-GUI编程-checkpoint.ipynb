{
 "cells": [
  {
   "cell_type": "markdown",
   "metadata": {},
   "source": [
    "# Python tkinter GUI编程"
   ]
  },
  {
   "cell_type": "code",
   "execution_count": 5,
   "metadata": {
    "ExecuteTime": {
     "end_time": "2019-01-29T03:28:09.180000Z",
     "start_time": "2019-01-29T03:28:09.176998Z"
    }
   },
   "outputs": [],
   "source": [
    "#tkinter 是跨平台的可以在window/linux/macos等上面不加修改的运行"
   ]
  },
  {
   "cell_type": "markdown",
   "metadata": {},
   "source": [
    "# hello world"
   ]
  },
  {
   "cell_type": "code",
   "execution_count": 6,
   "metadata": {
    "ExecuteTime": {
     "end_time": "2019-01-29T03:28:18.583391Z",
     "start_time": "2019-01-29T03:28:10.269624Z"
    }
   },
   "outputs": [],
   "source": [
    "import tkinter\n",
    "from tkinter.constants import * # 引入tkinter\n",
    "root = tkinter.Tk()\n",
    "label = tkinter.Label(root,text='hello world.') #将标签生添加到主窗口\n",
    "label.pack()\n",
    "button1 = tkinter.Button(root,text='button1',bg='red',command='dos()') #生成button\n",
    "button1.pack(side=tkinter.LEFT)#布局\n",
    "button2 = tkinter.Button(root,text='button2')\n",
    "button2.pack(side=tkinter.RIGHT)\n",
    "root.mainloop() #生成主窗口\n",
    "\n",
    "def dos():\n",
    "    print('hello')"
   ]
  },
  {
   "cell_type": "markdown",
   "metadata": {
    "ExecuteTime": {
     "end_time": "2019-01-29T01:42:00.338247Z",
     "start_time": "2019-01-29T01:42:00.334263Z"
    }
   },
   "source": [
    "# button"
   ]
  },
  {
   "cell_type": "code",
   "execution_count": 7,
   "metadata": {
    "ExecuteTime": {
     "end_time": "2019-01-29T03:28:19.784698Z",
     "start_time": "2019-01-29T03:28:18.585389Z"
    }
   },
   "outputs": [],
   "source": [
    "import tkinter\n",
    "from tkinter.constants import *\n",
    "root = tkinter.Tk()\n",
    "button1 = tkinter.Button(root,\n",
    "                         anchor = tkinter.E,\n",
    "                         text = 'button1',\n",
    "                         bg = 'red',\n",
    "                         width = 40,\n",
    "                         height =5 ) #生成button\n",
    "button1.pack()\n",
    "\n",
    "button2 = tkinter.Button(root,\n",
    "                         anchor=tkinter.E,\n",
    "                         text='button2',\n",
    "                         bg='red',\n",
    "                         width= 40,\n",
    "                         height=5,\n",
    "                         state=tkinter.DISABLED) #生成button\n",
    "button2.pack()\n",
    "root.mainloop()"
   ]
  },
  {
   "cell_type": "markdown",
   "metadata": {
    "ExecuteTime": {
     "end_time": "2019-01-29T01:48:13.745330Z",
     "start_time": "2019-01-29T01:48:13.742332Z"
    }
   },
   "source": [
    "# tkinter文本框 Entry Text"
   ]
  },
  {
   "cell_type": "code",
   "execution_count": 8,
   "metadata": {
    "ExecuteTime": {
     "end_time": "2019-01-29T03:28:20.683180Z",
     "start_time": "2019-01-29T03:28:19.786697Z"
    }
   },
   "outputs": [],
   "source": [
    "import tkinter\n",
    "from tkinter.constants import *\n",
    "root  = tkinter.Tk()\n",
    "\n",
    "entry1 = tkinter.Entry(root,show='*',bg='red',fg='blue',selectbackground = 'yellow')#文本框显示的字符\n",
    "entry1.pack()\n",
    "root.mainloop()"
   ]
  },
  {
   "cell_type": "markdown",
   "metadata": {
    "ExecuteTime": {
     "end_time": "2019-01-29T02:20:26.738645Z",
     "start_time": "2019-01-29T02:20:26.648695Z"
    }
   },
   "source": [
    "# 标签"
   ]
  },
  {
   "cell_type": "code",
   "execution_count": 9,
   "metadata": {
    "ExecuteTime": {
     "end_time": "2019-01-29T03:28:21.580663Z",
     "start_time": "2019-01-29T03:28:20.686179Z"
    }
   },
   "outputs": [],
   "source": [
    "import tkinter\n",
    "from tkinter.constants import *\n",
    "root  = tkinter.Tk()\n",
    "\n",
    "labell = tkinter.Label(root,\n",
    "                       anchor = tkinter.E,\n",
    "                       bg='green',\n",
    "                       text = 'python',\n",
    "                       justify = tkinter.CENTER,\n",
    "                       width= 30,\n",
    "                       height=5)\n",
    "labell.pack()\n",
    "\n",
    "root.mainloop()"
   ]
  },
  {
   "cell_type": "markdown",
   "metadata": {
    "ExecuteTime": {
     "start_time": "2019-01-29T02:26:12.193Z"
    }
   },
   "source": [
    "# 菜单 使用config方法添加"
   ]
  },
  {
   "cell_type": "code",
   "execution_count": 10,
   "metadata": {
    "ExecuteTime": {
     "end_time": "2019-01-29T03:28:22.494247Z",
     "start_time": "2019-01-29T03:28:21.582660Z"
    }
   },
   "outputs": [],
   "source": [
    "import tkinter\n",
    "from tkinter.constants import *\n",
    "root  = tkinter.Tk()\n",
    "\n",
    "menu = tkinter.Menu(root)#生成菜单\n",
    "\n",
    "submenu = tkinter.Menu(menu,tearoff=0)# 生成下拉菜单File\n",
    "submenu.add_command(label='Open') #添加open命令\n",
    "submenu.add_command(label='Save')\n",
    "submenu.add_command(label='Close')\n",
    "menu.add_cascade(label='File',menu = submenu) # 添加下拉菜单到主菜单，菜单名字为File\n",
    "\n",
    "# 继续添加Edit菜单\n",
    "submenu = tkinter.Menu(menu,tearoff=0)# 生成下拉菜单Edit\n",
    "submenu.add_command(label='Copy') #添加open命令\n",
    "submenu.add_command(label='Paste')\n",
    "submenu.add_separator()#下拉菜单中增加分隔符\n",
    "submenu.add_command(label='Cut')\n",
    "menu.add_cascade(label='Edit',menu = submenu) # 添加下拉菜单到主菜单，菜单名字为EDIT\n",
    "\n",
    "#继续添加Help菜单\n",
    "submenu = tkinter.Menu(menu,tearoff=0)# 生成下拉菜单Help\n",
    "submenu.add_command(label='About')\n",
    "menu.add_cascade(label='Help',menu = submenu) # 添加下拉菜单到主菜单\n",
    "root.config(menu=menu)\n",
    "root.mainloop()"
   ]
  },
  {
   "cell_type": "markdown",
   "metadata": {
    "ExecuteTime": {
     "end_time": "2019-01-29T02:40:42.274137Z",
     "start_time": "2019-01-29T02:40:42.270126Z"
    }
   },
   "source": [
    "# 弹出式菜单"
   ]
  },
  {
   "cell_type": "code",
   "execution_count": 11,
   "metadata": {
    "ExecuteTime": {
     "end_time": "2019-01-29T03:28:23.424778Z",
     "start_time": "2019-01-29T03:28:22.496246Z"
    }
   },
   "outputs": [],
   "source": [
    "import tkinter\n",
    "from tkinter.constants import *\n",
    "root  = tkinter.Tk()\n",
    "menu = tkinter.Menu(root,tearoff=0)#生成菜单\n",
    "menu.add_command(label='Copy')\n",
    "menu.add_command(label='Paste')\n",
    "menu.add_separator()\n",
    "menu.add_command(label='Cut')\n",
    "\n",
    "def popupmenu(event):# 定义右键事件处理函数\n",
    "    menu.post(event.x_root,event.y_root)\n",
    "root.bind('<Button-3>',popupmenu) # 窗口绑定右键事件\n",
    "root.mainloop()"
   ]
  },
  {
   "cell_type": "markdown",
   "metadata": {
    "ExecuteTime": {
     "end_time": "2019-01-29T02:47:46.035350Z",
     "start_time": "2019-01-29T02:47:46.028354Z"
    }
   },
   "source": [
    "# 单选框和复选框 radiobutton 和checkbutton"
   ]
  },
  {
   "cell_type": "code",
   "execution_count": 12,
   "metadata": {
    "ExecuteTime": {
     "end_time": "2019-01-29T03:28:24.460180Z",
     "start_time": "2019-01-29T03:28:23.426778Z"
    }
   },
   "outputs": [
    {
     "name": "stdout",
     "output_type": "stream",
     "text": [
      "1\n",
      "1\n"
     ]
    }
   ],
   "source": [
    "import tkinter\n",
    "from tkinter.constants import *\n",
    "root  = tkinter.Tk()\n",
    "\n",
    "r = tkinter.StringVar() # 生成字符串变量用于单选框组件\n",
    "r.set('1') #初始化值\n",
    "radio = tkinter.Radiobutton(root,variable = r,value = '1',text='radio1',\n",
    "                            indicatoron = 0)#indicatoron单选框复制成按钮样式\n",
    "radio.pack()\n",
    "\n",
    "radio = tkinter.Radiobutton(root,variable = r,value = '2',text='radio2',\n",
    "                            indicatoron = 0)\n",
    "radio.pack()\n",
    "\n",
    "radio = tkinter.Radiobutton(root,variable = r,value = '3',text='radio3',\n",
    "                            indicatoron = 0)\n",
    "radio.pack()\n",
    "\n",
    "c = tkinter.IntVar()\n",
    "c.set(1)\n",
    "check = tkinter.Checkbutton(root,#复选框\n",
    "                            text ='checkButton',\n",
    "                            variable = c,\n",
    "                            onvalue =1,#选中复选框时C为1\n",
    "                            offvalue=2,\n",
    "                            indicatoron = 0)#indicatoron复选框复制成按钮样式\n",
    "check.pack()\n",
    "root.mainloop()\n",
    "print(r.get())\n",
    "print(c.get())\n",
    "\n"
   ]
  },
  {
   "cell_type": "markdown",
   "metadata": {
    "ExecuteTime": {
     "end_time": "2019-01-29T03:26:49.614397Z",
     "start_time": "2019-01-29T03:26:49.611385Z"
    }
   },
   "source": [
    "# 绘制图形 Canvas"
   ]
  },
  {
   "cell_type": "code",
   "execution_count": 3,
   "metadata": {
    "ExecuteTime": {
     "end_time": "2019-01-29T07:21:56.610432Z",
     "start_time": "2019-01-29T07:21:53.863659Z"
    }
   },
   "outputs": [],
   "source": [
    "import tkinter\n",
    "import os\n",
    "from tkinter.constants import *\n",
    "path = os.getcwd()\n",
    "root  = tkinter.Tk()\n",
    "canvas = tkinter.Canvas(root,\n",
    "                       width=600,\n",
    "                       height=600,\n",
    "                       bg = 'white')\n",
    "# im = tkinter.PhotoImage(file = path + '\\\\mine.jpg') # photoImage 打开图片\n",
    "# canvas.create_image(300,50,image=im) # 添加图片到canvas组件中\n",
    "canvas.create_text(300,77,text ='use canvas',fill = 'blue')\n",
    "canvas.create_polygon(100,100,100,100,100,100,100,100,100,100,100,100)\n",
    "canvas.create_oval(280,120,320,140,fill='blue') # 椭圆\n",
    "canvas.create_line(250,130,350,130) \n",
    "canvas.create_rectangle(90,190,510,410,width=5) # 矩形\n",
    "canvas.create_arc(100,200,500,400,#绘制圆椭圆\n",
    "                  start=0,\n",
    "                  extent=240, #设置起止角度\n",
    "                  fill='pink') \n",
    "canvas.pack()\n",
    "root.mainloop()"
   ]
  },
  {
   "cell_type": "markdown",
   "metadata": {},
   "source": [
    "# 响应操作时间 bind、bind_class 方法绑定"
   ]
  },
  {
   "cell_type": "code",
   "execution_count": 11,
   "metadata": {
    "ExecuteTime": {
     "end_time": "2019-01-29T07:30:51.365598Z",
     "start_time": "2019-01-29T07:30:49.803320Z"
    }
   },
   "outputs": [],
   "source": [
    "# bind(sequence,func,add) \n",
    "# bind_class(className,sequence,func,add)\n",
    "#bind_all(sequence,func,add)\n",
    "\n",
    "# sequence 绑定的事件 <>\n",
    "# func 所绑定的事件处理函数 function(event)\n",
    "# add 可选参数，空字符或者‘+’\n",
    "# className 绑定的类\n",
    "\n",
    "import tkinter\n",
    "from tkinter.constants import *\n",
    "\n",
    "class MyButton:\n",
    "    def __init__(self,root,canvas,label,type):\n",
    "        self.root = root\n",
    "        self.canvas =canvas\n",
    "        self.label =label\n",
    "        if type == 0: #根据类型创建按钮\n",
    "            button = tkinter.Button(root,text='DrawLine',command = self.DrawLine)\n",
    "        elif type == 1:\n",
    "            button = tkinter.Button(root,text='DrawArc',command = self.DrawArc)\n",
    "        elif type == 2:\n",
    "            button = tkinter.Button(root,text='DrawRec',command = self.DrawRec)\n",
    "        else :\n",
    "            button = tkinter.Button(root,text='DrawOval',command = self.DrawOval)\n",
    "        button.pack(side='left')\n",
    "    \n",
    "    def DrawLine(self):\n",
    "        self.label.text.set('draw line')\n",
    "        self.canvas.SetStatus(0)\n",
    "        \n",
    "    def DrawArc(self):\n",
    "        self.label.text.set('draw arc')\n",
    "        self.canvas.SetStatus(1)\n",
    "        \n",
    "    def DrawRec(self):\n",
    "        self.label.text.set('draw rectange')\n",
    "        self.canvas.SetStatus(2)\n",
    "        \n",
    "    def DrawOval(self):\n",
    "        self.label.text.set('draw oval')\n",
    "        self.canvas.SetStatus(3)\n",
    "        \n",
    "class MyCanvas: #canvas类\n",
    "    def __init__(self,root):\n",
    "        self.status = 0\n",
    "        self.draw = 0\n",
    "        self.root = root\n",
    "        self.canvas = tkinter.Canvas(root,#生成canvas组件\n",
    "                                     bg ='white',\n",
    "                                     width=600,\n",
    "                                     height = 480)\n",
    "        self.canvas.pack()\n",
    "        self.canvas.bind('<ButtonRelease-1>',self.Draw)#绑定事件到左键，左键释放执行绘图\n",
    "        self.canvas.bind('<Button-2>',self.Exit)\n",
    "        self.canvas.bind('<Button-3>',self.Del)\n",
    "        self.canvas.bind_all('<Delete>',self.Del)\n",
    "        self.canvas.bind_all('<KeyPress-d>',self.Del)\n",
    "        self.canvas.bind_all('<KeyPress-e>',self.Exit)\n",
    "        \n",
    "    def Draw(self,event):#绘图事件处理函数\n",
    "        if self.draw == 0:#判断是否绘图\n",
    "            self.x = event.x \n",
    "            self.y = event.y\n",
    "            self.draw = 1\n",
    "        else:\n",
    "            if self.status == 0: # 更具self.status绘制不同的图形\n",
    "                print(self.x,self.y,event.x,self.y)\n",
    "                self.canvas.create_line(self.x,self.y,event.x,event.y,width=5)\n",
    "                self.draw = 0\n",
    "            if self.status == 1:\n",
    "                self.canvas.create_arc(self.x,self.y,event.x,event.y,width=5)\n",
    "                self.draw = 0\n",
    "            if self.status == 2:\n",
    "                self.canvas.create_rectangle(self.x,self.y,event.x,event.y,width=5)\n",
    "                self.draw = 0\n",
    "            else :\n",
    "                self.canvas.create_oval(self.x,self.y,event.x,event.y,width=5)\n",
    "                self.draw = 0\n",
    "    \n",
    "    def Del(self,event):#右键或者d键删除图形\n",
    "        items = self.canvas.find_all()\n",
    "        for item in items:\n",
    "            self.canvas.delete(item)\n",
    "            \n",
    "    def Exit(self,event): # 中键或e键退出\n",
    "        self.root.quit()\n",
    "        \n",
    "    def SetStatus(self,status): #设置绘制的图形\n",
    "        self.status = status\n",
    "        \n",
    "class MyLabel:\n",
    "    def __init__(self,root):\n",
    "        self.root = root\n",
    "        self.canvas = canvas\n",
    "        self.text = tkinter.StringVar() #生成标签引用变量\n",
    "        self.text.set('draw line')\n",
    "        self.label = tkinter.Label(root,textvariable = self.text,fg ='red',width=50)\n",
    "        self.label.pack(side='left')\n",
    "        \n",
    "root = tkinter.Tk()\n",
    "canvas = MyCanvas(root)\n",
    "label = MyLabel(root)\n",
    "MyButton(root,canvas,label,0) #生成按钮\n",
    "MyButton(root,canvas,label,1)\n",
    "MyButton(root,canvas,label,2)\n",
    "MyButton(root,canvas,label,3)\n",
    "root.mainloop()\n",
    "        \n",
    "            "
   ]
  },
  {
   "cell_type": "markdown",
   "metadata": {},
   "source": [
    "# 对话框messagebox"
   ]
  },
  {
   "cell_type": "code",
   "execution_count": 19,
   "metadata": {
    "ExecuteTime": {
     "end_time": "2019-01-29T07:46:42.883447Z",
     "start_time": "2019-01-29T07:46:10.619809Z"
    }
   },
   "outputs": [],
   "source": [
    "import tkinter\n",
    "import tkinter.messagebox\n",
    "from tkinter.constants import *\n",
    "\n",
    "def cmd():\n",
    "    global n#使用全局变量\n",
    "    global buttontext\n",
    "    n = n+1 #每次都加一,然后改变buttontext的值\n",
    "    if n ==1:\n",
    "        tkinter.messagebox.askokcancel('python tkinter','askokorcancel')\n",
    "        buttontext.set('skquestion')\n",
    "    elif n==2:\n",
    "        tkinter.messagebox.askquestion('python tkinter','askquestion')\n",
    "        buttontext.set('askyesorno')\n",
    "    elif n==3:\n",
    "        tkinter.messagebox.askyesno('python tkinter','askyesorno')\n",
    "        buttontext.set('showerror')\n",
    "    elif n==4:\n",
    "        tkinter.messagebox.showerror('python tkinter','showerror')\n",
    "        buttontext.set('showinfo')\n",
    "    elif n==5:\n",
    "        tkinter.messagebox.showinfo('python tkinter','showinfo')\n",
    "        buttontext.set('askyesorno')\n",
    "    else:\n",
    "        tkinter.messagebox.showwarning('python tkinter','showwarning')\n",
    "        buttontext.set('askokcancel')\n",
    "        n = 0#重置n为0\n",
    "        \n",
    "n = 0\n",
    "root = tkinter.Tk()\n",
    "buttontext = tkinter.StringVar()\n",
    "buttontext.set('askokcancel')\n",
    "button = tkinter.Button(root,textvariable = buttontext, command =cmd)\n",
    "button.pack()\n",
    "root.mainloop()\n",
    "    \n",
    "\n"
   ]
  },
  {
   "cell_type": "markdown",
   "metadata": {},
   "source": [
    "# 标准对话框 simpledialog、filedialog、colorchooser"
   ]
  },
  {
   "cell_type": "code",
   "execution_count": 26,
   "metadata": {
    "ExecuteTime": {
     "end_time": "2019-01-29T07:57:50.399340Z",
     "start_time": "2019-01-29T07:57:49.021051Z"
    }
   },
   "outputs": [],
   "source": [
    "import tkinter\n",
    "from tkinter.constants import *\n",
    "import tkinter.simpledialog\n",
    "\n",
    "def instr():\n",
    "    r = tkinter.simpledialog.askstring('python tkinter',\n",
    "                                       'input your str',\n",
    "                                       initialvalue='hello')\n",
    "    print(r)\n",
    "\n",
    "def inint():\n",
    "    r = tkinter.simpledialog.askinteger('python tkinter',\n",
    "                                       'input your int')\n",
    "    print(r)\n",
    "    \n",
    "def inflo():\n",
    "    r = tkinter.simpledialog.askfloat('python tkinter',\n",
    "                                       'input your float')\n",
    "    print(r)\n",
    "\n",
    "root = tkinter.Tk()\n",
    "button1 = tkinter.Button(root,text='input str',command=instr)\n",
    "button1.pack(side='left')\n",
    "button2 = tkinter.Button(root,text='input int',command=inint)\n",
    "button2.pack(side='left')\n",
    "button3 = tkinter.Button(root,text='input float',command=inflo)\n",
    "button3.pack(side='left')\n",
    "root.mainloop()"
   ]
  },
  {
   "cell_type": "code",
   "execution_count": 27,
   "metadata": {
    "ExecuteTime": {
     "end_time": "2019-01-29T07:58:00.802723Z",
     "start_time": "2019-01-29T07:58:00.799724Z"
    }
   },
   "outputs": [],
   "source": [
    "#filedialog"
   ]
  },
  {
   "cell_type": "code",
   "execution_count": 30,
   "metadata": {
    "ExecuteTime": {
     "end_time": "2019-01-29T08:08:11.092793Z",
     "start_time": "2019-01-29T08:07:28.206690Z"
    }
   },
   "outputs": [],
   "source": [
    "import tkinter\n",
    "from tkinter.constants import *\n",
    "import tkinter.filedialog\n",
    "\n",
    "def fileopen():\n",
    "    r = tkinter.filedialog.askopenfilename(title='python',\n",
    "                                           filetypes=[('Python','*.py'),\n",
    "                                                     ('All files','*')])\n",
    "    print(r)\n",
    "def filesave():\n",
    "    r = tkinter.filedialog.asksaveasfilename(title='python',\n",
    "                                            initialdir=r'E:Python\\code',\n",
    "                                            initialfile='test.py')\n",
    "    print(r)\n",
    "\n",
    "root = tkinter.Tk()\n",
    "button1 = tkinter.Button(root,text ='open file',command=fileopen)\n",
    "button1.pack(side='left')\n",
    "button2 = tkinter.Button(root,text ='save file',command=filesave)\n",
    "button2.pack(side='left')\n",
    "root.mainloop()\n"
   ]
  },
  {
   "cell_type": "code",
   "execution_count": 31,
   "metadata": {
    "ExecuteTime": {
     "end_time": "2019-01-29T08:08:11.098791Z",
     "start_time": "2019-01-29T08:08:11.095793Z"
    }
   },
   "outputs": [],
   "source": [
    "# colorchoose"
   ]
  },
  {
   "cell_type": "code",
   "execution_count": 1,
   "metadata": {
    "ExecuteTime": {
     "end_time": "2019-02-14T02:19:56.833509Z",
     "start_time": "2019-02-14T02:19:46.812651Z"
    }
   },
   "outputs": [
    {
     "name": "stdout",
     "output_type": "stream",
     "text": [
      "(None, None)\n"
     ]
    }
   ],
   "source": [
    "import tkinter\n",
    "from tkinter.constants import *\n",
    "import tkinter.colorchooser\n",
    "\n",
    "def chooseColor():\n",
    "    r = tkinter.colorchooser.askcolor(title='choose your color')\n",
    "    print(r)\n",
    "root = tkinter.Tk()\n",
    "button=tkinter.Button(root,text='choose your color',command=chooseColor)\n",
    "button.pack()\n",
    "root.mainloop()"
   ]
  },
  {
   "cell_type": "markdown",
   "metadata": {
    "ExecuteTime": {
     "end_time": "2019-01-29T08:14:51.522937Z",
     "start_time": "2019-01-29T08:14:51.517940Z"
    }
   },
   "source": [
    "# 自定义对话框 Toplevel"
   ]
  },
  {
   "cell_type": "code",
   "execution_count": null,
   "metadata": {},
   "outputs": [],
   "source": [
    "import tkinterer\n",
    "from tkinter.constants import *\n",
    "\n",
    "class MyDialog:\n",
    "    def __init__(self,root):\n",
    "        self.top = tkinter.Toplevel(root)#生成toplevel组件\n",
    "        label = tkinter.Label(self.top,text='please input')\n",
    "        label.pack()\n",
    "        self.entry = tkinter.Entry(self.top)#生成文本框组件\n",
    "        self.entry.pack()\n",
    "        self.entry.focus()# 让文本框获得焦点\n",
    "        \n",
    "        button = tkinter.Button(self.top,text='ok',command = self.ok)\n",
    "        button.pack()\n",
    "        "
   ]
  }
 ],
 "metadata": {
  "kernelspec": {
   "display_name": "Python 3",
   "language": "python",
   "name": "python3"
  },
  "language_info": {
   "codemirror_mode": {
    "name": "ipython",
    "version": 3
   },
   "file_extension": ".py",
   "mimetype": "text/x-python",
   "name": "python",
   "nbconvert_exporter": "python",
   "pygments_lexer": "ipython3",
   "version": "3.7.1"
  },
  "toc": {
   "base_numbering": 1,
   "nav_menu": {},
   "number_sections": true,
   "sideBar": true,
   "skip_h1_title": false,
   "title_cell": "Table of Contents",
   "title_sidebar": "Contents",
   "toc_cell": false,
   "toc_position": {},
   "toc_section_display": true,
   "toc_window_display": false
  }
 },
 "nbformat": 4,
 "nbformat_minor": 2
}
