{
 "cells": [
  {
   "cell_type": "markdown",
   "metadata": {},
   "source": [
    "# Python 正则表达式"
   ]
  },
  {
   "cell_type": "code",
   "execution_count": 1,
   "metadata": {
    "ExecuteTime": {
     "end_time": "2019-02-14T02:26:35.860439Z",
     "start_time": "2019-02-14T02:26:35.857440Z"
    }
   },
   "outputs": [],
   "source": [
    "# regex re模块"
   ]
  },
  {
   "cell_type": "code",
   "execution_count": 1,
   "metadata": {
    "ExecuteTime": {
     "end_time": "2019-02-14T08:50:11.144428Z",
     "start_time": "2019-02-14T08:50:11.124453Z"
    }
   },
   "outputs": [
    {
     "name": "stdout",
     "output_type": "stream",
     "text": [
      "<re.Match object; span=(0, 2), match='he'>\n",
      "<re.Match object; span=(0, 22), match='hello world hello your'>\n",
      "['hello', 'world', 'hello', 'your']\n",
      "tollo world tollo your\n",
      "tollo world tollo your\n",
      "('ssllo world ssllo your', 2)\n"
     ]
    }
   ],
   "source": [
    "import re\n",
    "s = \"hello world hello your\"\n",
    "print(re.match('he',s))\n",
    "print(re.match(\"HE.*\",s,re.I))\n",
    "print(re.findall('[a-z]{1,5}',s))\n",
    "#正则替换\n",
    "m = re.sub('he','to',s)\n",
    "print(m)\n",
    "print(m)\n",
    "mm = re.subn('he','ss',s)\n",
    "print(mm)\n"
   ]
  },
  {
   "cell_type": "code",
   "execution_count": 4,
   "metadata": {
    "ExecuteTime": {
     "end_time": "2019-02-14T08:53:45.030723Z",
     "start_time": "2019-02-14T08:53:45.026725Z"
    }
   },
   "outputs": [
    {
     "data": {
      "text/plain": [
       "'0826'"
      ]
     },
     "execution_count": 4,
     "metadata": {},
     "output_type": "execute_result"
    }
   ],
   "source": [
    "import re\n",
    "s = \"hello this is 0826-456789456789\"\n",
    "r = re.compile(r'(\\d+)-(\\d+)')\n",
    "m = r.search(s)\n",
    "m.group(1)\n",
    "# m.group(2)\n",
    "#?P<name> 设置组名"
   ]
  },
  {
   "cell_type": "code",
   "execution_count": 10,
   "metadata": {
    "ExecuteTime": {
     "end_time": "2019-02-26T08:17:33.365318Z",
     "start_time": "2019-02-26T08:17:33.360319Z"
    }
   },
   "outputs": [
    {
     "data": {
      "text/plain": [
       "{'Area': '0826'}"
      ]
     },
     "execution_count": 10,
     "metadata": {},
     "output_type": "execute_result"
    }
   ],
   "source": [
    "import re\n",
    "s = \"hello this is 0826-456789456789\"\n",
    "r = re.compile(r'(?P<Area>\\d+)-(\\d+)')\n",
    "m = r.search(s)\n",
    "m.groupdict()\n",
    "# m.group(2)\n",
    "#?P<name> 设置组名"
   ]
  },
  {
   "cell_type": "code",
   "execution_count": null,
   "metadata": {
    "ExecuteTime": {
     "start_time": "2019-02-26T08:18:18.716Z"
    }
   },
   "outputs": [],
   "source": [
    "#server\n",
    "import socket\n",
    "host = 'localhost'\n",
    "port = 10889\n",
    "s = socket.socket(socket.AF_INET,socket.SOCK_STREAM)#IPV4 TCP\n",
    "s.bind((host,port))\n",
    "s.listen(1) # 不超过5\n",
    "conn,addr = s.accept()\n",
    "print('client address:',addr)\n",
    "while True:\n",
    "    data = conn.recv(1024)\n",
    "    if not data:\n",
    "        print('no data')\n",
    "        break\n",
    "    print('receive data',data.decode('utf-8'))\n",
    "    conn.send(data)\n",
    "conn.close()"
   ]
  },
  {
   "cell_type": "code",
   "execution_count": null,
   "metadata": {},
   "outputs": [],
   "source": [
    "#client\n",
    "import socket\n",
    "host='localhost'\n",
    "port = 10889\n",
    "s = socket.socket(socket.AF_INET,socket.SOCK_STREAM)\n",
    "s.connect((host,port))\n",
    "data = 'hello server'\n",
    "while data:\n",
    "    s.sendall(data.decode('utf-8'))\n",
    "    data = s.recv(512)\n",
    "    print('receive from server:',data.decode('utf-8'))\n",
    "    data = input('please input a info')\n",
    "s.close()"
   ]
  }
 ],
 "metadata": {
  "kernelspec": {
   "display_name": "Python 3",
   "language": "python",
   "name": "python3"
  },
  "language_info": {
   "codemirror_mode": {
    "name": "ipython",
    "version": 3
   },
   "file_extension": ".py",
   "mimetype": "text/x-python",
   "name": "python",
   "nbconvert_exporter": "python",
   "pygments_lexer": "ipython3",
   "version": "3.8.1"
  },
  "toc": {
   "base_numbering": 1,
   "nav_menu": {},
   "number_sections": true,
   "sideBar": true,
   "skip_h1_title": false,
   "title_cell": "Table of Contents",
   "title_sidebar": "Contents",
   "toc_cell": false,
   "toc_position": {},
   "toc_section_display": true,
   "toc_window_display": false
  }
 },
 "nbformat": 4,
 "nbformat_minor": 2
}
