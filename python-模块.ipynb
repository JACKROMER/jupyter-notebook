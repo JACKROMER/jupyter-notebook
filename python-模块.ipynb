{
 "cells": [
  {
   "cell_type": "markdown",
   "metadata": {},
   "source": [
    "## 模块"
   ]
  },
  {
   "cell_type": "code",
   "execution_count": 42,
   "metadata": {},
   "outputs": [],
   "source": [
    "# # %load creature_person.py\n",
    "# #!/usr/bin/env python\n",
    "\n",
    "# # In[5]:\n",
    "\n",
    "\n",
    "# # 生物类\n",
    "# class Creature(object):\n",
    "#     def __init__(self,name='',size=0, color='yello'):\n",
    "#         self.name = name\n",
    "#         self.size = size\n",
    "#         self.color = color\n",
    "        \n",
    "#     def eat(self,food):\n",
    "#         print(self.name + 'eat' + food)\n",
    "\n",
    "# # human 人类\n",
    "# class Person(Creature):\n",
    "#     def __init__(self,name,size,color,age=18):\n",
    "#         super(Person,self).__init__()\n",
    "#         self.name = name\n",
    "#         self.size = size\n",
    "#         self.age = age\n",
    "#         self.color = color\n",
    "        \n",
    "#     def eat(self,food):\n",
    "#         print(self.name + ' eat ' + food)\n",
    "        \n",
    "#     def drink(self,drink):\n",
    "#         print(self.name + ' drink ' + drink)"
   ]
  },
  {
   "cell_type": "code",
   "execution_count": 5,
   "metadata": {
    "ExecuteTime": {
     "end_time": "2018-11-29T08:50:43.865381Z",
     "start_time": "2018-11-29T08:50:43.860373Z"
    }
   },
   "outputs": [
    {
     "name": "stdout",
     "output_type": "stream",
     "text": [
      "human  age is  324\n",
      "human drink milk\n",
      "human eat rice、meat.\n",
      "creature eat C4\n",
      "Wall time: 0 ns\n"
     ]
    }
   ],
   "source": [
    "%%time\n",
    "import sys\n",
    "#在module的path中临时添加指定的python文件目录，防止引入文件报错\n",
    "sys.path.append('E:\\Python\\jupyter\\pyfile')\n",
    "import creature_person as pcl\n",
    "p = pcl.Person(name = 'human',size = 15,color = 'yellow',age = 18)\n",
    "cr = pcl.Creature(name = 'creature',size = 15,color =' white')\n",
    "p.ageDouble()\n",
    "p.drink('milk')\n",
    "p.eat('rice、meat.')\n",
    "cr.eat('C4')\n",
    "dir(pcl)"
   ]
  },
  {
   "cell_type": "markdown",
   "metadata": {},
   "source": [
    "### 包引用"
   ]
  },
  {
   "cell_type": "code",
   "execution_count": 13,
   "metadata": {
    "ExecuteTime": {
     "end_time": "2018-11-29T09:26:21.968323Z",
     "start_time": "2018-11-29T09:26:21.964312Z"
    }
   },
   "outputs": [
    {
     "name": "stdout",
     "output_type": "stream",
     "text": [
      "human eat rice,apple,and delicious things.\n"
     ]
    }
   ],
   "source": [
    "# from  xxx import  aaa\n",
    "# import hhh\n",
    "import myproject\n",
    "from myproject import python_classes\n",
    "import creature_person as  cp\n",
    "p = cp.Person(name = 'human',size = 15,color = 'yellow',age = 18)\n",
    "p.eat('rice,apple,and delicious things.')"
   ]
  },
  {
   "cell_type": "markdown",
   "metadata": {},
   "source": [
    "### python常用内置包"
   ]
  },
  {
   "cell_type": "code",
   "execution_count": 40,
   "metadata": {
    "ExecuteTime": {
     "end_time": "2018-11-30T01:42:29.117318Z",
     "start_time": "2018-11-30T01:42:29.111335Z"
    }
   },
   "outputs": [
    {
     "data": {
      "text/plain": [
       "31"
      ]
     },
     "execution_count": 40,
     "metadata": {},
     "output_type": "execute_result"
    }
   ],
   "source": [
    "import random as ra\n",
    "import datetime as dt\n",
    "dtn = dt.datetime(2018,11,30,9,10,16,133645)\n",
    "dtn\n",
    "# dt.datetime(2018,11,30,9,10,16,133645)\n",
    "# ra.random()\n",
    "# ra.randint(0,10)\n",
    "# ra.randrange(1,100,1,int)"
   ]
  }
 ],
 "metadata": {
  "kernelspec": {
   "display_name": "Python 3",
   "language": "python",
   "name": "python3"
  },
  "language_info": {
   "codemirror_mode": {
    "name": "ipython",
    "version": 3
   },
   "file_extension": ".py",
   "mimetype": "text/x-python",
   "name": "python",
   "nbconvert_exporter": "python",
   "pygments_lexer": "ipython3",
   "version": "3.7.1"
  },
  "toc": {
   "base_numbering": 1,
   "nav_menu": {},
   "number_sections": true,
   "sideBar": true,
   "skip_h1_title": false,
   "title_cell": "Table of Contents",
   "title_sidebar": "Contents",
   "toc_cell": false,
   "toc_position": {
    "height": "calc(100% - 180px)",
    "left": "10px",
    "top": "150px",
    "width": "165px"
   },
   "toc_section_display": true,
   "toc_window_display": true
  }
 },
 "nbformat": 4,
 "nbformat_minor": 2
}
