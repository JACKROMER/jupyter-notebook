{
 "cells": [
  {
   "cell_type": "markdown",
   "metadata": {},
   "source": [
    "# python 数据库操作"
   ]
  },
  {
   "cell_type": "code",
   "execution_count": 2,
   "metadata": {
    "ExecuteTime": {
     "end_time": "2019-02-27T03:43:58.311011Z",
     "start_time": "2019-02-27T03:43:58.134095Z"
    }
   },
   "outputs": [
    {
     "name": "stdout",
     "output_type": "stream",
     "text": [
      "New rowid = 1\n"
     ]
    }
   ],
   "source": [
    "#sqlite \n",
    "import sqlite3 \n",
    "\n",
    "# for py24 use from pysqlite2 import dbapi2 as sqlite\n",
    "\n",
    "con = sqlite3.connect('C:/Users/Xu/Downloads/mqttClient/mydata.db')\n",
    "con.execute(\"\"\"CREATE TABLE tbl (\n",
    "   id INTEGER PRIMARY KEY AUTOINCREMENT,\n",
    "   grp INTEGER)\"\"\")\n",
    "c = con.cursor()\n",
    "c.execute(\"\"\"INSERT INTO tbl (grp) VALUES (0);\"\"\")\n",
    "\n",
    "newId = c.lastrowid\n",
    "\n",
    "print (\"New rowid =\", newId)\n",
    "c.close()\n",
    "con.close()"
   ]
  },
  {
   "cell_type": "code",
   "execution_count": null,
   "metadata": {
    "ExecuteTime": {
     "start_time": "2019-02-27T07:16:34.758Z"
    }
   },
   "outputs": [],
   "source": [
    "# mysql\n",
    "#!/usr/bin/python\n",
    "# -*- coding: UTF-8 -*-\n",
    "\n",
    "import pymysql\n",
    "\n",
    "#连接数据库\n",
    "db = pymysql.connect(\"localhost\",\"root\",\"root\",\"test\")\n",
    "\n",
    "#使用cursor()方法创建一个游标对象\n",
    "cursor = db.cursor()\n",
    "\n",
    "#使用execute()方法执行SQL语句\n",
    "cursor.execute(\"SELECT * FROM test_table\")\n",
    "\n",
    "#使用fetall()获取全部数据\n",
    "data = cursor.fetchall()\n",
    "\n",
    "#打印获取到的数据\n",
    "print(data)\n",
    "\n",
    "#关闭游标和数据库的连接\n",
    "cursor.close()\n",
    "db.close()"
   ]
  },
  {
   "cell_type": "code",
   "execution_count": null,
   "metadata": {
    "ExecuteTime": {
     "start_time": "2019-02-27T07:16:54.561Z"
    }
   },
   "outputs": [],
   "source": [
    "import pymysql\n",
    "config={\n",
    "    \"host\":\"127.0.0.1\",\n",
    "    \"user\":\"root\",\n",
    "    \"password\":\"root\",\n",
    "    \"database\":\"test\"\n",
    "}\n",
    "db = pymysql.connect(**config)\n",
    "cursor = db.cursor()\n",
    "sql = \"INSERT INTO test_table(id) VALUES(%s)\"\n",
    "for i in range(10):\n",
    "    cursor.execute(sql,(\"bob\" + str(i)))  \n",
    "db.commit()  #提交数据\n",
    "cursor.close()\n",
    "db.close()"
   ]
  },
  {
   "cell_type": "code",
   "execution_count": 6,
   "metadata": {
    "ExecuteTime": {
     "end_time": "2019-02-27T07:25:44.751839Z",
     "start_time": "2019-02-27T07:25:43.054653Z"
    },
    "scrolled": true
   },
   "outputs": [
    {
     "name": "stdout",
     "output_type": "stream",
     "text": [
      "username:aaa\n",
      "登录失败\n"
     ]
    }
   ],
   "source": [
    "import pymysql\n",
    "user = input(\"username:\")\n",
    "config={\n",
    "    \"host\":\"127.0.0.1\",\n",
    "    \"user\":\"root\",\n",
    "    \"password\":\"root\",\n",
    "    \"database\":\"test\"\n",
    "}\n",
    "db = pymysql.connect(**config)\n",
    "cursor = db.cursor(cursor=pymysql.cursors.DictCursor)\n",
    "sql = \"select * from test_table where id=%s\"\n",
    "result=cursor.execute(sql,(user))\n",
    "cursor.close()\n",
    "db.close()\n",
    "if result:\n",
    "    print('登录成功')\n",
    "else:\n",
    "    print('登录失败')"
   ]
  },
  {
   "cell_type": "code",
   "execution_count": 9,
   "metadata": {
    "ExecuteTime": {
     "end_time": "2019-02-27T07:42:44.457397Z",
     "start_time": "2019-02-27T07:42:44.400421Z"
    }
   },
   "outputs": [],
   "source": [
    "import pymysql\n",
    "config={\n",
    "    \"host\":\"127.0.0.1\",\n",
    "    \"user\":\"root\",\n",
    "    \"password\":\"root\",\n",
    "    \"database\":\"test\"\n",
    "}\n",
    "db = pymysql.connect(**config)\n",
    "cursor = db.cursor()\n",
    "sql = \"INSERT INTO userinfo(username,passwd) VALUES(%s,%s)\"\n",
    "cursor.executemany(sql,[(\"tom\",\"123\"),(\"alex\",'321')])\n",
    "db.commit()  #提交数据\n",
    "cursor.close()\n",
    "db.close()\n"
   ]
  },
  {
   "cell_type": "code",
   "execution_count": 11,
   "metadata": {
    "ExecuteTime": {
     "end_time": "2019-02-27T08:36:18.747850Z",
     "start_time": "2019-02-27T08:36:18.739842Z"
    }
   },
   "outputs": [
    {
     "name": "stdout",
     "output_type": "stream",
     "text": [
      "[{'username': 'tom', 'passwd': '123'}, {'username': 'alex', 'passwd': '321'}, {'username': 'tom', 'passwd': '123'}, {'username': 'alex', 'passwd': '321'}, {'username': 'tom', 'passwd': '123'}, {'username': 'alex', 'passwd': '321'}]\n"
     ]
    }
   ],
   "source": [
    "import pymysql\n",
    "config={\n",
    "    \"host\":\"127.0.0.1\",\n",
    "    \"user\":\"root\",\n",
    "    \"password\":\"root\",\n",
    "    \"database\":\"test\"\n",
    "}\n",
    "db = pymysql.connect(**config)\n",
    "cursor = db.cursor(cursor=pymysql.cursors.DictCursor)\n",
    "sql = \"SELECT * FROM userinfo\"\n",
    "cursor.execute(sql)\n",
    "res = cursor.fetchall()\n",
    "print(res)\n",
    "cursor.close()\n",
    "db.close()"
   ]
  },
  {
   "cell_type": "code",
   "execution_count": 19,
   "metadata": {
    "ExecuteTime": {
     "end_time": "2019-02-27T08:40:07.447126Z",
     "start_time": "2019-02-27T08:40:07.439144Z"
    }
   },
   "outputs": [
    {
     "name": "stdout",
     "output_type": "stream",
     "text": [
      "[{'username': 'tom2', 'passwd': '123'}, {'username': 'tom1', 'passwd': '321'}, {'username': 'tom4', 'passwd': '123'}, {'username': 'tom3', 'passwd': '321'}, {'username': 'tom', 'passwd': '123'}, {'username': 'alex5', 'passwd': '321'}]\n",
      "-----------\n",
      "[{'username': 'tom3', 'passwd': '321'}, {'username': 'tom', 'passwd': '123'}, {'username': 'alex5', 'passwd': '321'}]\n"
     ]
    }
   ],
   "source": [
    "import pymysql\n",
    "config={\n",
    "    \"host\":\"127.0.0.1\",\n",
    "    \"user\":\"root\",\n",
    "    \"password\":\"root\",\n",
    "    \"database\":\"test\"\n",
    "}\n",
    "db = pymysql.connect(**config)\n",
    "cursor = db.cursor(cursor=pymysql.cursors.DictCursor)\n",
    "\n",
    "sql = \"SELECT * FROM userinfo\"\n",
    "cursor.execute(sql)\n",
    "res = cursor.fetchall()\n",
    "print(res)\n",
    "print('-----------')\n",
    "cursor.scroll(3,mode='absolute') #相对首行移动了0，就是把行指针移动到了首行\n",
    "res = cursor.fetchall()  #第二次获取到的内容\n",
    "print(res)"
   ]
  },
  {
   "cell_type": "code",
   "execution_count": 22,
   "metadata": {
    "ExecuteTime": {
     "end_time": "2019-02-27T08:41:11.909773Z",
     "start_time": "2019-02-27T08:41:11.900778Z"
    }
   },
   "outputs": [
    {
     "name": "stdout",
     "output_type": "stream",
     "text": [
      "{'username': 'tom2', 'passwd': '123'}\n",
      "--------------\n",
      "{'username': 'alex5', 'passwd': '321'}\n"
     ]
    }
   ],
   "source": [
    "# 上下文管理器\n",
    "import pymysql\n",
    "config={\n",
    "    \"host\":\"127.0.0.1\",\n",
    "    \"user\":\"root\",\n",
    "    \"password\":\"root\",\n",
    "    \"database\":\"test\"\n",
    "}\n",
    "db = pymysql.connect(**config)\n",
    "with db.cursor(cursor=pymysql.cursors.DictCursor) as cursor:  #获取数据库连接的对象\n",
    "    sql = \"SELECT * FROM userinfo\"   \n",
    "    cursor.execute(sql)\n",
    "    res = cursor.fetchone()\n",
    "    print(res)\n",
    "    print('--------------')\n",
    "    cursor.scroll(4,mode='relative')\n",
    "    res = cursor.fetchone()\n",
    "    print(res)\n",
    "    cursor.close()\n",
    "db.close()"
   ]
  }
 ],
 "metadata": {
  "kernelspec": {
   "display_name": "Python 3",
   "language": "python",
   "name": "python3"
  },
  "language_info": {
   "codemirror_mode": {
    "name": "ipython",
    "version": 3
   },
   "file_extension": ".py",
   "mimetype": "text/x-python",
   "name": "python",
   "nbconvert_exporter": "python",
   "pygments_lexer": "ipython3",
   "version": "3.7.1"
  },
  "toc": {
   "base_numbering": 1,
   "nav_menu": {},
   "number_sections": true,
   "sideBar": true,
   "skip_h1_title": false,
   "title_cell": "Table of Contents",
   "title_sidebar": "Contents",
   "toc_cell": false,
   "toc_position": {},
   "toc_section_display": true,
   "toc_window_display": false
  }
 },
 "nbformat": 4,
 "nbformat_minor": 2
}
