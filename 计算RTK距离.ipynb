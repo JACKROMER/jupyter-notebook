{
 "cells": [
  {
   "cell_type": "code",
   "execution_count": 4,
   "metadata": {},
   "outputs": [
    {
     "name": "stdout",
     "output_type": "stream",
     "text": [
      "输入起点经度：45.4567\n",
      "输入起点纬度：-78.647\n",
      "输入终点经度：88.4562\n",
      "输入终点纬度：-67.4356\n",
      "两点之间的距离为：2980.851862031683\n"
     ]
    }
   ],
   "source": [
    "from geopy.distance import geodesic\n",
    "startpointx = input('输入起点经度：');\n",
    "startpointy = input('输入起点纬度：');\n",
    "destinationx = input('输入终点经度：');\n",
    "destinationy = input('输入终点纬度：');\n",
    "tuple1 = (startpointx,startpointy)\n",
    "tuple2 = (destinationx,destinationy)\n",
    "# newport_ri = (41.49008, -71.312796)\n",
    "# cleveland_oh = (41.499498, -81.695391)\n",
    "distance = geodesic(tuple1, tuple2).miles\n",
    "print(\"两点之间的距离为：\" + str(distance))\n"
   ]
  },
  {
   "cell_type": "code",
   "execution_count": null,
   "metadata": {},
   "outputs": [],
   "source": []
  }
 ],
 "metadata": {
  "kernelspec": {
   "display_name": "Python 3",
   "language": "python",
   "name": "python3"
  },
  "language_info": {
   "codemirror_mode": {
    "name": "ipython",
    "version": 3
   },
   "file_extension": ".py",
   "mimetype": "text/x-python",
   "name": "python",
   "nbconvert_exporter": "python",
   "pygments_lexer": "ipython3",
   "version": "3.7.4"
  }
 },
 "nbformat": 4,
 "nbformat_minor": 2
}
