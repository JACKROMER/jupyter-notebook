{
 "cells": [
  {
   "cell_type": "code",
   "execution_count": 2,
   "metadata": {},
   "outputs": [
    {
     "name": "stdout",
     "output_type": "stream",
     "text": [
      "Please enter a folder(default is 'ooxx'): UUUU\n",
      "How many pages do you wan to download(default is 10): 30\n",
      "UUUU\n",
      "包含\n",
      "包含\n",
      "包含\n",
      "包含\n",
      "包含\n",
      "包含\n",
      "包含\n",
      "包含\n",
      "最终页面id ['/tag/tunvlang/index_2.html', '/tag/tunvlang/index_3.html', '/tag/tunvlang/index_4.html', '/tag/tunvlang/index_5.html', '/tag/tunvlang/index_6.html', '/tag/tunvlang/index_7.html', '/tag/tunvlang/index_2.html', '/tag/tunvlang/index_7.html']\n",
      "['/tag/tunvlang/index_2.html', '/tag/tunvlang/index_3.html', '/tag/tunvlang/index_4.html', '/tag/tunvlang/index_5.html', '/tag/tunvlang/index_6.html', '/tag/tunvlang/index_7.html', '/tag/tunvlang/index_2.html', '/tag/tunvlang/index_7.html']\n",
      "页面URL： /tag/tunvlang/index_2.html\n",
      "页面地址： https://www.msgao.com/tag/tunvlang/index_2.html\n",
      "图片数组： ['https://xintu.crmvscrm.com/d/file/t/20200218/11/ut1qmkgmamx.jpg', 'https://xintu.crmvscrm.com/d/file/t/20200208/10/ifcipaatyue.jpg', 'https://xintu.crmvscrm.com/d/file/t/20200122/10/g5cu4z4cvot.jpg', 'https://xintu.crmvscrm.com/d/file/t/20200117/16/lqrc3q1ymth.jpg', 'https://xintu.crmvscrm.com/d/file/t/20200109/10/tdnivgtnss3.jpg', 'https://xintu.crmvscrm.com/d/file/t/20191221/14/ttmi3rxt5da.jpg', 'https://xintu.crmvscrm.com/d/file/t/20191212/10/vv0pxk5n1iy.jpg', 'https://xintu.crmvscrm.com/d/file/t/20191206/17/2pmpll2vpnx.jpg', 'https://xintu.crmvscrm.com/d/file/t/20191206/10/jv4uivmc2ho.jpg', 'https://xintu.crmvscrm.com/d/file/t/20191029/11/4rbqfx3d0n5.jpg', 'https://xintu.crmvscrm.com/d/file/t/20190917/10/gqufdnke35v.jpg', 'https://xintu.crmvscrm.com/d/file/t/20190909/17/05qmi52a1yd.jpg', 'https://xintu.crmvscrm.com/d/file/t/20190825/16/xz110ov3hoy.jpg', 'https://xintu.crmvscrm.com/d/file/t/20190813/09/5b1u0f3bzmo.jpg', 'https://xintu.crmvscrm.com/d/file/t/20190803/17/n14yn0zp5og.jpg', 'https://xintu.crmvscrm.com/d/file/t/20190801/08/djsrv44ztgq.jpg', 'https://xintu.crmvscrm.com/d/file/t/20181202/11/mrz5zezfac4.jpg', 'https://xintu.crmvscrm.com/d/file/t/20181120/11/ihrydmhhl40.jpg', 'https://xintu.crmvscrm.com/d/file/t/20180811/11/sjvqwzo23cq.jpg', 'https://xintu.crmvscrm.com/d/file/t/20180801/11/g14fsjisq4h.jpg']\n"
     ]
    },
    {
     "ename": "FileNotFoundError",
     "evalue": "[WinError 2] 系统找不到指定的文件。: 'ex_2.html'",
     "output_type": "error",
     "traceback": [
      "\u001b[1;31m---------------------------------------------------------------------------\u001b[0m",
      "\u001b[1;31mFileNotFoundError\u001b[0m                         Traceback (most recent call last)",
      "\u001b[1;32m<ipython-input-2-5ded2464dfb5>\u001b[0m in \u001b[0;36m<module>\u001b[1;34m\u001b[0m\n\u001b[0;32m     84\u001b[0m     \u001b[0mfolder\u001b[0m \u001b[1;33m=\u001b[0m \u001b[0minput\u001b[0m\u001b[1;33m(\u001b[0m\u001b[1;34m\"Please enter a folder(default is 'ooxx'): \"\u001b[0m \u001b[1;33m)\u001b[0m\u001b[1;33m\u001b[0m\u001b[1;33m\u001b[0m\u001b[0m\n\u001b[0;32m     85\u001b[0m     \u001b[0mpages\u001b[0m \u001b[1;33m=\u001b[0m \u001b[0minput\u001b[0m\u001b[1;33m(\u001b[0m\u001b[1;34m\"How many pages do you wan to download(default is 10): \"\u001b[0m\u001b[1;33m)\u001b[0m\u001b[1;33m\u001b[0m\u001b[1;33m\u001b[0m\u001b[0m\n\u001b[1;32m---> 86\u001b[1;33m     \u001b[0mdownload_mm\u001b[0m\u001b[1;33m(\u001b[0m\u001b[0mstr\u001b[0m\u001b[1;33m(\u001b[0m\u001b[0mfolder\u001b[0m\u001b[1;33m)\u001b[0m\u001b[1;33m,\u001b[0m\u001b[0mint\u001b[0m\u001b[1;33m(\u001b[0m\u001b[0mpages\u001b[0m\u001b[1;33m)\u001b[0m\u001b[1;33m)\u001b[0m\u001b[1;33m\u001b[0m\u001b[1;33m\u001b[0m\u001b[0m\n\u001b[0m",
      "\u001b[1;32m<ipython-input-2-5ded2464dfb5>\u001b[0m in \u001b[0;36mdownload_mm\u001b[1;34m(folder, pages)\u001b[0m\n\u001b[0;32m     77\u001b[0m         \u001b[0mprint\u001b[0m\u001b[1;33m(\u001b[0m\u001b[1;34m\"页面地址：\"\u001b[0m\u001b[1;33m,\u001b[0m \u001b[0mpage_url\u001b[0m\u001b[1;33m)\u001b[0m\u001b[1;33m\u001b[0m\u001b[1;33m\u001b[0m\u001b[0m\n\u001b[0;32m     78\u001b[0m         \u001b[0mimg_addrs\u001b[0m \u001b[1;33m=\u001b[0m \u001b[0mfind_imgs\u001b[0m\u001b[1;33m(\u001b[0m\u001b[0mpage_url\u001b[0m\u001b[1;33m)\u001b[0m \u001b[1;31m#获取图片地址\u001b[0m\u001b[1;33m\u001b[0m\u001b[1;33m\u001b[0m\u001b[0m\n\u001b[1;32m---> 79\u001b[1;33m         \u001b[0msave_imgs\u001b[0m\u001b[1;33m(\u001b[0m\u001b[0mimg_addrs\u001b[0m\u001b[1;33m,\u001b[0m\u001b[0mpage_id\u001b[0m\u001b[1;33m,\u001b[0m\u001b[0mfolder\u001b[0m\u001b[1;33m)\u001b[0m \u001b[1;31m#保存图片\u001b[0m\u001b[1;33m\u001b[0m\u001b[1;33m\u001b[0m\u001b[0m\n\u001b[0m\u001b[0;32m     80\u001b[0m         \u001b[0mos\u001b[0m\u001b[1;33m.\u001b[0m\u001b[0mchdir\u001b[0m\u001b[1;33m(\u001b[0m\u001b[0mfolder_top\u001b[0m\u001b[1;33m)\u001b[0m\u001b[1;33m\u001b[0m\u001b[1;33m\u001b[0m\u001b[0m\n\u001b[0;32m     81\u001b[0m         \u001b[0mprint\u001b[0m\u001b[1;33m(\u001b[0m\u001b[1;34m\"第\"\u001b[0m \u001b[1;33m+\u001b[0m \u001b[0mpage_id\u001b[0m \u001b[1;33m+\u001b[0m \u001b[1;34m\"页下载完成\"\u001b[0m\u001b[1;33m,\u001b[0m \u001b[0mpage_id\u001b[0m\u001b[1;33m)\u001b[0m\u001b[1;33m\u001b[0m\u001b[1;33m\u001b[0m\u001b[0m\n",
      "\u001b[1;32m<ipython-input-2-5ded2464dfb5>\u001b[0m in \u001b[0;36msave_imgs\u001b[1;34m(img_addrs, page_num, folder)\u001b[0m\n\u001b[0;32m     25\u001b[0m     \u001b[0mdirname\u001b[0m \u001b[1;33m=\u001b[0m \u001b[0mpagenumstr\u001b[0m\u001b[1;33m[\u001b[0m\u001b[1;36m17\u001b[0m\u001b[1;33m:\u001b[0m\u001b[1;36m30\u001b[0m\u001b[1;33m]\u001b[0m\u001b[1;33m\u001b[0m\u001b[1;33m\u001b[0m\u001b[0m\n\u001b[0;32m     26\u001b[0m     \u001b[0mmakeDir\u001b[0m\u001b[1;33m(\u001b[0m\u001b[1;34m\"兔女郎图片\"\u001b[0m\u001b[1;33m)\u001b[0m\u001b[1;33m\u001b[0m\u001b[1;33m\u001b[0m\u001b[0m\n\u001b[1;32m---> 27\u001b[1;33m     \u001b[0mos\u001b[0m\u001b[1;33m.\u001b[0m\u001b[0mchdir\u001b[0m\u001b[1;33m(\u001b[0m\u001b[0mstr\u001b[0m\u001b[1;33m(\u001b[0m\u001b[0mdirname\u001b[0m\u001b[1;33m)\u001b[0m\u001b[1;33m)\u001b[0m\u001b[1;33m\u001b[0m\u001b[1;33m\u001b[0m\u001b[0m\n\u001b[0m\u001b[0;32m     28\u001b[0m     \u001b[1;32mfor\u001b[0m \u001b[0mi\u001b[0m \u001b[1;32min\u001b[0m \u001b[0mimg_addrs\u001b[0m\u001b[1;33m:\u001b[0m\u001b[1;33m\u001b[0m\u001b[1;33m\u001b[0m\u001b[0m\n\u001b[0;32m     29\u001b[0m         \u001b[0mpurlstr\u001b[0m \u001b[1;33m=\u001b[0m \u001b[0mstr\u001b[0m\u001b[1;33m(\u001b[0m\u001b[0mi\u001b[0m\u001b[1;33m)\u001b[0m\u001b[1;33m\u001b[0m\u001b[1;33m\u001b[0m\u001b[0m\n",
      "\u001b[1;31mFileNotFoundError\u001b[0m: [WinError 2] 系统找不到指定的文件。: 'ex_2.html'"
     ]
    }
   ],
   "source": [
    "import urllib.request\n",
    "import os\n",
    "import re\n",
    "\n",
    "def url_open(url):\n",
    "    req = urllib.request.Request(url)\n",
    "    req.add_header('User-Agent','Mozilla/5.0 (X11; Ubuntu; Linux x86_64; rv:36.0) Gecko/20100101 Firefox/36.0')\n",
    "    response = urllib.request.urlopen(req)\n",
    "    return response.read()\n",
    "\n",
    "\n",
    "# 获取图片链接\n",
    "def find_imgs(page_url):\n",
    "#     src=\"//scpic.chinaz.net/Files/pic/pic9/202011/apic29096_s.jpg\"\n",
    "    pattern = r'data-original=\"([^\"]*)\"+?' #匹配图片地址\n",
    "    html = url_open(page_url).decode('utf-8')\n",
    "#     print(html)\n",
    "    img_addrs = re.findall(pattern,html)\n",
    "    print(\"图片数组：\" ,img_addrs)\n",
    "    return img_addrs\n",
    "\n",
    "# 保存图片到文件夹\n",
    "def save_imgs(img_addrs,page_num,folder):\n",
    "#     pagenumstr = str(page_num)\n",
    "#     dirname = pagenumstr[17:30]\n",
    "    dirname = \"兔女郎GOOD\"\n",
    "    makeDir(str(dirname))\n",
    "    os.chdir(str(dirname))\n",
    "    for i in img_addrs:\n",
    "        purlstr = str(i)\n",
    "        if purlstr.find('jpg') != -1:\n",
    "            print(\"下载图片地址：\", purlstr)\n",
    "            b = purlstr.split('/')\n",
    "            filename = b[-1]\n",
    "            image = url_open(purlstr)\n",
    "            with open(filename,'wb') as f:\n",
    "                f.write(image)\n",
    "                f.close()\n",
    "\n",
    "# 获取href列表\n",
    "def get_page(url):\n",
    "    html = url_open(url).decode('utf-8')\n",
    "#     print(html)\n",
    "#   https://image.baidu.com/\n",
    "    pattern = r'href=\"([^\"]*)\"[^>]*>.+?' # 匹配href\n",
    "    uuidArr = re.findall(pattern, html)\n",
    "    uuidArrf = []\n",
    "    for id in uuidArr:\n",
    "        idstr = str(id)\n",
    "        if idstr.find('/tag/tunvlang/index') != -1 :\n",
    "            print('包含')\n",
    "            uuidArrf.append(idstr)\n",
    "    print(\"最终页面id\", uuidArrf)\n",
    "    return uuidArrf\n",
    "\n",
    "def makeDir(folder):\n",
    "    if os.path.exists(folder) :\n",
    "        print(folder + \"文件夹已存在\")\n",
    "        pass\n",
    "    try:\n",
    "        os.mkdir(folder)\n",
    "    except OSError:\n",
    "        pass\n",
    "    \n",
    "def download_mm(folder='ooxx',pages=10):\n",
    "    print(folder)\n",
    "    makeDir(folder) #新建文件夹\n",
    "    os.chdir(folder) #跳转到文件夹\n",
    "    folder_top = os.getcwd() #获取当前工作目录\n",
    "#     url = 'https://sc.chinaz.com/tupian/meinvxiezhen_3.html'\n",
    "    baseurl='https://www.msgao.com'\n",
    "    url = 'https://www.msgao.com/tag/tunvlang/'\n",
    "    page_num = get_page(url) #获取网页最新的地址\n",
    "    print(page_num)\n",
    "    for page_id in page_num:\n",
    "        print(\"页面URL：\", page_id)\n",
    "        page_url = baseurl + page_id #组合网页地址\n",
    "        print(\"页面地址：\", page_url)\n",
    "        img_addrs = find_imgs(page_url) #获取图片地址\n",
    "        save_imgs(img_addrs,page_id,folder) #保存图片\n",
    "        os.chdir(folder_top)\n",
    "        print(\"第\" + page_id + \"页下载完成\", page_id)\n",
    "\n",
    "if __name__ == '__main__':\n",
    "    folder = input(\"Please enter a folder(default is 'ooxx'): \" )\n",
    "    pages = input(\"How many pages do you wan to download(default is 10): \")\n",
    "    download_mm(str(folder),int(pages))"
   ]
  },
  {
   "cell_type": "code",
   "execution_count": 22,
   "metadata": {
    "collapsed": true
   },
   "outputs": [
    {
     "name": "stdout",
     "output_type": "stream",
     "text": [
      "['/tag/qiaotun/index_2.html']\n",
      "['https://xintu.crmvscrm.com/d/file/t/20201130/10/4ai2bpnkhlk.jpg']\n",
      "70cFvHSh_Q1YnxGkpoWK1HF6hhy\n",
      "201326592&amp\n"
     ]
    }
   ],
   "source": [
    "import re\n",
    "\n",
    "html = '<a href=\"/tag/qiaotun/index_2.html\">2</a>'\n",
    "pattern = r'href=\"([^\"]*)\"[^>]*>.+?' # 匹配href\n",
    "print(re.findall(pattern,html))\n",
    "pattern2 = r'src=\"([^\"]*)\"+?'\n",
    "html2 ='<a href=\"/xinggan/21610.html\" title=\"PartyCat轰趴猫 风骚翘臀少妇浴室性感蕾丝内衣摄影图片\" target=\"_blank\"><img src=\"https://xintu.crmvscrm.com/d/file/t/20201130/10/4ai2bpnkhlk.jpg\" data-original=\"https://xintu.crmvscrm.com/d/file/t/20201130/10/4ai2bpnkhlk.jpg\" alt=\"PartyCat轰趴猫 风骚翘臀少妇浴室性感蕾丝内衣摄影图片\" style=\"display: inline;\"></a>'\n",
    "print(re.findall(pattern2,html2))\n",
    "a = 'https://ss0.bdstatic.com/70cFvHSh_Q1YnxGkpoWK1HF6hhy/it/u=3075027813,1435505077&amp;fm=26&amp;gp=0.jpg'\n",
    "b = a.split('/')\n",
    "print(b[3])\n",
    "mm = '/search/index?ct=201326592&amp;'\n",
    "print(mm[17:30])"
   ]
  },
  {
   "cell_type": "code",
   "execution_count": 30,
   "metadata": {},
   "outputs": [
    {
     "name": "stdout",
     "output_type": "stream",
     "text": [
      "1\n"
     ]
    }
   ],
   "source": [
    "print('/tag/qiaotun/index_2.html'.find('tag/qiaotun'))"
   ]
  }
 ],
 "metadata": {
  "kernelspec": {
   "display_name": "Python 3",
   "language": "python",
   "name": "python3"
  },
  "language_info": {
   "codemirror_mode": {
    "name": "ipython",
    "version": 3
   },
   "file_extension": ".py",
   "mimetype": "text/x-python",
   "name": "python",
   "nbconvert_exporter": "python",
   "pygments_lexer": "ipython3",
   "version": "3.8.1"
  }
 },
 "nbformat": 4,
 "nbformat_minor": 4
}
