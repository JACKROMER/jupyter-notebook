{
 "cells": [
  {
   "cell_type": "code",
   "execution_count": 99,
   "metadata": {},
   "outputs": [
    {
     "name": "stdout",
     "output_type": "stream",
     "text": [
      "D:/GitHubProject/jupyter-notebook/AllMyTest/some.xml\n",
      "输入需要替换的数据,用空格分隔: 111 222 333\n",
      "X原始值：1022.04474179\n",
      "X当前值：1133.04474179\n",
      "Y原始值：1243.90082029\n",
      "Y当前值：1465.90082029\n",
      "Z原始值：1465.96929765\n",
      "Z当前值：1798.96929765\n",
      "文件修改完成D:/GitHubProject/jupyter-notebook/AllMyTest/some.xml\n"
     ]
    },
    {
     "data": {
      "text/plain": [
       "1"
      ]
     },
     "execution_count": 99,
     "metadata": {},
     "output_type": "execute_result"
    }
   ],
   "source": [
    "import xml.etree.ElementTree  as ET\n",
    "import re\n",
    "import os\n",
    "import tkinter\n",
    "from tkinter import filedialog\n",
    "\n",
    "root = tkinter.Tk()# 创建一个Tkinter.Tk()实例\n",
    "root.withdraw()# 将Tkinter.Tk()实例隐藏\n",
    "default_dir = os.getcwd()\n",
    "#file_path = tkinter.filedialog.askopenfilename(title=u'选择文件', initialdir=(os.path.expanduser(default_dir)))\n",
    "file_path = filedialog.askopenfilename(title=u'选择XML文件', initialdir=(os.path.expanduser(default_dir)))\n",
    "if file_path.endswith('.xml'):\n",
    "    print(file_path)\n",
    "    xyz = input(\"输入需要替换的数据,用空格分隔: \")\n",
    "    arr = xyz.split(' ')\n",
    "    if len(arr) != 3:\n",
    "        print('请输入正确的数据')\n",
    "    else:\n",
    "        parser = ET.XMLPullParser\n",
    "        tree = ET.parse(file_path)#file_path填写自己的文件路径即可,载入数据\n",
    "        root2 = tree.getroot() \n",
    "        for child in root2:\n",
    "            if child.tag.startswith('CheckRot'):\n",
    "                # 重置数据\n",
    "                if  child.tag == 'CheckRotX':\n",
    "                    print('X原始值：' + child.text)\n",
    "                    curx = str(float(child.text) + float(arr[0]))\n",
    "                    child.text = curx\n",
    "                    print('X当前值：' + child.text)\n",
    "                if  child.tag == 'CheckRotY':\n",
    "                    print('Y原始值：' + child.text)\n",
    "                    cury = str(float(child.text) + float(arr[1]))\n",
    "                    child.text = cury\n",
    "                    print('Y当前值：' + child.text)\n",
    "                if  child.tag == 'CheckRotZ':\n",
    "                    print('Z原始值：' + child.text)\n",
    "                    curz = str(float(child.text) + float(arr[2]))\n",
    "                    child.text = curz\n",
    "                    print('Z当前值：' + child.text)\n",
    "                    tree.write(file_path, 'UTF-8', xml_declaration=True)  #保存 \n",
    "        print(\"文件修改完成\" + file_path)\n",
    "else:\n",
    "    print(\"只支持XML文件\")\n",
    "os.system('pause')"
   ]
  }
 ],
 "metadata": {
  "kernelspec": {
   "display_name": "Python 3",
   "language": "python",
   "name": "python3"
  },
  "language_info": {
   "codemirror_mode": {
    "name": "ipython",
    "version": 3
   },
   "file_extension": ".py",
   "mimetype": "text/x-python",
   "name": "python",
   "nbconvert_exporter": "python",
   "pygments_lexer": "ipython3",
   "version": "3.8.1"
  }
 },
 "nbformat": 4,
 "nbformat_minor": 4
}
