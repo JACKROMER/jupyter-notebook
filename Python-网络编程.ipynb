{
 "cells": [
  {
   "cell_type": "markdown",
   "metadata": {},
   "source": [
    "# 网络编程"
   ]
  },
  {
   "cell_type": "code",
   "execution_count": null,
   "metadata": {
    "ExecuteTime": {
     "start_time": "2019-02-26T08:15:44.173Z"
    }
   },
   "outputs": [],
   "source": [
    "#server\n",
    "import socket\n",
    "host = 'localhost'\n",
    "port = 10888\n",
    "s = socket.socket(socket.AF_INET,socket.SOCK_STREAM)#IPV4 TCP\n",
    "s.bind((host,port))\n",
    "s.listen(1) # 不超过5\n",
    "conn,addr = s.accept()\n",
    "print('client address:',addr)\n",
    "while True:\n",
    "    data = conn.recv(1024)\n",
    "    if not data:\n",
    "        print('no data')\n",
    "        break\n",
    "    print('receive data',data.decode('utf-8'))\n",
    "    conn.send(data)\n",
    "conn.close()"
   ]
  },
  {
   "cell_type": "code",
   "execution_count": null,
   "metadata": {
    "ExecuteTime": {
     "start_time": "2019-02-26T08:17:08.343Z"
    }
   },
   "outputs": [],
   "source": [
    "#client\n",
    "import socket\n",
    "host='localhost'\n",
    "port = 10888\n",
    "s = socket.socket(socket.AF_INET,socket.SOCK_STREAM)\n",
    "s.connect((host,port))\n",
    "data = 'hello server'\n",
    "while data:\n",
    "    s.sendall(data.decode('utf-8'))\n",
    "    data = s.recv(512)\n",
    "    print('receive from server:',data.decode('utf-8'))\n",
    "    data = input('please input a info')\n",
    "s.close()"
   ]
  },
  {
   "cell_type": "code",
   "execution_count": null,
   "metadata": {
    "ExecuteTime": {
     "start_time": "2019-02-26T08:21:53.297Z"
    }
   },
   "outputs": [],
   "source": [
    "print('hello')"
   ]
  },
  {
   "cell_type": "code",
   "execution_count": null,
   "metadata": {
    "ExecuteTime": {
     "end_time": "2019-02-26T08:24:09.350363Z",
     "start_time": "2019-02-26T08:24:09.345366Z"
    }
   },
   "outputs": [],
   "source": [
    "s = (1,2,3,5,7)\n",
    "for i in s:\n",
    "    print(i)"
   ]
  },
  {
   "cell_type": "code",
   "execution_count": null,
   "metadata": {
    "ExecuteTime": {
     "end_time": "2019-02-26T08:31:04.592589Z",
     "start_time": "2019-02-26T08:30:42.046Z"
    }
   },
   "outputs": [],
   "source": [
    "import socketserver\n",
    "HOST = 'localhost'\n",
    "PORT = 10888\n",
    "class MyTcpHandler(socketserver.StreamRequestHandler):\n",
    "    def handle(self):\n",
    "        while True:\n",
    "            data = self.request.recv(1024)\n",
    "            if not data:\n",
    "                Server.shodow()\n",
    "                break\n",
    "            print('message is ',data.decode('utf-8'))\n",
    "            slef.request.send(data)\n",
    "        return\n",
    "Server = socketserver.TCPServer((HOST,PORT),MyTcpHandler)\n",
    "Server.serve_forever()"
   ]
  },
  {
   "cell_type": "code",
   "execution_count": 4,
   "metadata": {
    "ExecuteTime": {
     "end_time": "2019-02-26T09:02:01.231260Z",
     "start_time": "2019-02-26T09:02:00.811295Z"
    }
   },
   "outputs": [
    {
     "name": "stdout",
     "output_type": "stream",
     "text": [
      "http://www.baidu.com/s?wd=%E5%AA%9A%E5%84%BF\n",
      "b'<!DOCTYPE html>\\n<html lang=\"zh-CN\">\\n<head>\\n    <meta charset=\"utf-8\">\\n    <title>\\xe7\\x99\\xbe\\xe5\\xba\\xa6\\xe5\\xae\\x89\\xe5\\x85\\xa8\\xe9\\xaa\\x8c\\xe8\\xaf\\x81</title>\\n    <meta http-equiv=\"Content-Type\" content=\"text/html; charset=utf-8\">\\n    <meta name=\"apple-mobile-web-app-capable\" content=\"yes\">\\n    <meta name=\"apple-mobile-web-app-status-bar-style\" content=\"black\">\\n    <meta name=\"viewport\" content=\"width=device-width, user-scalable=no, initial-scale=1.0, minimum-scale=1.0, maximum-scale=1.0\">\\n    <meta name=\"format-detection\" content=\"telephone=no, email=no\">\\n    <link rel=\"shortcut icon\" href=\"https://www.baidu.com/favicon.ico\" type=\"image/x-icon\">\\n    <link rel=\"icon\" sizes=\"any\" mask href=\"https://www.baidu.com/img/baidu.svg\">\\n    <meta http-equiv=\"X-UA-Compatible\" content=\"IE=Edge\">\\n    <meta http-equiv=\"Content-Security-Policy\" content=\"upgrade-insecure-requests\">\\n    <link rel=\"stylesheet\" href=\"https://wappass.bdimg.com/static/touch/css/api/mkdjump_8befa48.css\" />\\n</head>\\n<body>\\n    <div class=\"timeout hide\">\\n        <div class=\"timeout-img\"></div>\\n        <div class=\"timeout-title\">\\xe7\\xbd\\x91\\xe7\\xbb\\x9c\\xe4\\xb8\\x8d\\xe7\\xbb\\x99\\xe5\\x8a\\x9b\\xef\\xbc\\x8c\\xe8\\xaf\\xb7\\xe7\\xa8\\x8d\\xe5\\x90\\x8e\\xe9\\x87\\x8d\\xe8\\xaf\\x95</div>\\n        <button type=\"button\" class=\"timeout-button\">\\xe8\\xbf\\x94\\xe5\\x9b\\x9e\\xe9\\xa6\\x96\\xe9\\xa1\\xb5</button>\\n    </div>\\n    <div class=\"timeout-feedback hide\">\\n        <div class=\"timeout-feedback-icon\"></div>\\n        <p class=\"timeout-feedback-title\">\\xe9\\x97\\xae\\xe9\\xa2\\x98\\xe5\\x8f\\x8d\\xe9\\xa6\\x88</p>\\n    </div>\\n\\n<script src=\"https://wappass.baidu.com/static/machine/js/api/mkd.js\"></script>\\n<script src=\"https://wappass.bdimg.com/static/touch/js/mkdjump_2e06726.js\"></script>\\n</body>\\n</html><!--21959129490703316746011616-->\\n<script> var _trace_page_logid = 2195912949; </script>'\n"
     ]
    }
   ],
   "source": [
    "# urllib and http\n",
    "from urllib.request import urlopen\n",
    "from urllib.parse import urlencode\n",
    "import re\n",
    "\n",
    "wd = '媚儿'\n",
    "wd = urlencode({'wd':wd})\n",
    "url = 'http://www.baidu.com/s?' + wd\n",
    "print(url)\n",
    "page = urlopen(url).read()\n",
    "print(page)\n",
    "content = (page.decode('utf-8')).replace('\\n','').replace('\\t','')\n",
    "title = re.findall(r'<h3 class=\"t\".*?h3>',content)\n",
    "title = [item[item.find('href =') + 6:item.find('target=')] for item in title]\n",
    "title = [item.replace(' ','').replace('\"','') for item in title]\n",
    "for item in title:\n",
    "    print(item)\n",
    "    break\n"
   ]
  },
  {
   "cell_type": "code",
   "execution_count": null,
   "metadata": {
    "ExecuteTime": {
     "end_time": "2019-02-26T09:12:33.173256Z",
     "start_time": "2019-02-26T09:12:32.712478Z"
    }
   },
   "outputs": [],
   "source": [
    "from urllib.request import urlopen\n",
    "from urllib.parse import urlencode\n",
    "import re\n",
    "\n",
    "wd = '媚儿'\n",
    "wd = urlencode({'wd':wd})\n",
    "url = 'http://www.baidu.com/s?' + wd\n",
    "page = urlopen(url).read()\n",
    "print(page)\n",
    "print('sssaaa')"
   ]
  },
  {
   "cell_type": "code",
   "execution_count": null,
   "metadata": {
    "ExecuteTime": {
     "end_time": "2019-02-26T09:12:32.707501Z",
     "start_time": "2019-02-26T09:12:11.628882Z"
    }
   },
   "outputs": [],
   "source": [
    "from http.client import HTTPConnection\n",
    "mc = HTTPConnection('www.baidu.com:80')\n",
    "mc.request('GET','/')\n",
    "res = mc.getresponse()\n",
    "print(res.status,res.reason)\n",
    "print(res.read().decode('utf-8'))"
   ]
  },
  {
   "cell_type": "code",
   "execution_count": null,
   "metadata": {
    "ExecuteTime": {
     "end_time": "2019-02-26T09:33:08.716734Z",
     "start_time": "2019-02-26T09:33:08.427897Z"
    }
   },
   "outputs": [],
   "source": [
    "#poplib and smtplib\n",
    "from poplib import POP3\n",
    "import re,email,email.header\n",
    "\n",
    "def decode_email_content(msg_src,names):\n",
    "    msg = email.message_from_bytes(msg_src)\n",
    "    result = {}\n",
    "    for name in names:\n",
    "        content = msg.get(name)\n",
    "        info = email.header.decode_header(content)\n",
    "        if info[0][1]:\n",
    "            if info[0][1].find('unknown-') == -1:\n",
    "                result[name] = info[0][0].decode(info[0][1])\n",
    "            else:\n",
    "                try:\n",
    "                    result[name] = info[0][0].decode('gbk')\n",
    "                except:\n",
    "                    result[name] = info[0][0].decode('utf-8')\n",
    "        else:\n",
    "            result[name] = info[0][0]\n",
    "    return result\n",
    "\n",
    "if __name__ == '__main__':\n",
    "    pp = POP3(\"pop3.163.com\")\n",
    "    pp.user('jackromer@163.com')\n",
    "    pp.pass_('943655387zxc')\n",
    "    total,totalnum = pp.stat()\n",
    "    print(total,totalnum)\n",
    "    for i in range(totalnum-10,total):\n",
    "        hinfo,msgs,octet = pp.top(i+1,0)\n",
    "        b = b''\n",
    "        for msg in msgs:\n",
    "            b += msg + b'\\n'\n",
    "        items = decode_email_content(b,['subject','from'])\n",
    "        print(items['subject'],'\\nFrom:',items['from'])\n",
    "        print()\n",
    "    pp.close()"
   ]
  },
  {
   "cell_type": "code",
   "execution_count": null,
   "metadata": {
    "ExecuteTime": {
     "end_time": "2019-02-26T09:46:37.163518Z",
     "start_time": "2019-02-26T09:46:36.642735Z"
    }
   },
   "outputs": [],
   "source": [
    "#smtplib\n",
    "import smtplib,email\n",
    "chst = email.charset.Charset(input_charset='utf-8')\n",
    "header = (\"From: %s\\nTo: %s\\nSubject: %s\\n\\n\" \n",
    "          % (\"jackromer@163.com\",\"18380449282@163.com\",\n",
    "         chst.header_encode(\"python test\")))\n",
    "body = \"hello you\"\n",
    "email_con = header.encode('utf-8') + body.encode('utf-8')\n",
    "smtp = smtplib.SMTP(\"smtp.163.com\")\n",
    "smtp.login(\"jackromer@163.com\",\"943655387zxc\")\n",
    "smtp.sendmail(\"jackromer@163.com\",\"18380449282@163.com\",email_con)\n",
    "smtp.quit()\n"
   ]
  }
 ],
 "metadata": {
  "kernelspec": {
   "display_name": "Python 3",
   "language": "python",
   "name": "python3"
  },
  "language_info": {
   "codemirror_mode": {
    "name": "ipython",
    "version": 3
   },
   "file_extension": ".py",
   "mimetype": "text/x-python",
   "name": "python",
   "nbconvert_exporter": "python",
   "pygments_lexer": "ipython3",
   "version": "3.8.1"
  },
  "toc": {
   "base_numbering": 1,
   "nav_menu": {},
   "number_sections": true,
   "sideBar": true,
   "skip_h1_title": false,
   "title_cell": "Table of Contents",
   "title_sidebar": "Contents",
   "toc_cell": false,
   "toc_position": {},
   "toc_section_display": true,
   "toc_window_display": false
  }
 },
 "nbformat": 4,
 "nbformat_minor": 2
}
