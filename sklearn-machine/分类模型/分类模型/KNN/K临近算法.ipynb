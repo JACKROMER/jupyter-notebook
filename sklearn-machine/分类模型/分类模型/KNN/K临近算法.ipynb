{
 "cells": [
  {
   "cell_type": "markdown",
   "metadata": {
    "slideshow": {
     "slide_type": "slide"
    }
   },
   "source": [
    "### KNN - K临近算法 nearest Neighbors Classification"
   ]
  },
  {
   "cell_type": "markdown",
   "metadata": {},
   "source": [
    "![](./KNN.jpg)"
   ]
  },
  {
   "cell_type": "code",
   "execution_count": 19,
   "metadata": {},
   "outputs": [
    {
     "name": "stdout",
     "output_type": "stream",
     "text": [
      "      名字  KISS  PLAY   类型\n",
      "0   盗梦空间     2     3  动作片\n",
      "1    飞虎队    21    14  爱情片\n",
      "2   泰坦尼克    40    25  动作片\n",
      "3  盗梦空间3    59    36  爱情片\n",
      "4  盗梦空间4    78    47  动作片\n",
      "5  盗梦空间5    97    58  爱情片\n",
      "6  盗梦空间6   116    69  动作片\n",
      "7  盗梦空间7   135    80  爱情片\n",
      "   KISS  PLAY\n",
      "0     2     3\n",
      "1    21    14\n",
      "2    40    25\n",
      "3    59    36\n",
      "4    78    47\n",
      "5    97    58\n",
      "6   116    69\n",
      "7   135    80\n"
     ]
    }
   ],
   "source": [
    "import numpy as np\n",
    "from sklearn.neighbors import KNeighborsClassifier\n",
    "import pandas as pd\n",
    "\n",
    "# 分类电影类别  \n",
    "#动作电影  武打镜头：让子弹飞 速度与激情 谍影重重\n",
    "#爱情电影  KISS镜头：泰坦尼克  唐伯虎点秋香\n",
    "#  属性：武打  KISS\n",
    "# 量化：数量化/数字化\n",
    "# 金融量化  数据分析\n",
    "movie = pd.read_excel('./movies.xlsx',sheet_name = 0)\n",
    "print(movie)\n",
    "# 切割数据\n",
    "data.iloc()\n",
    "data = movie.iloc[:,1:3]\n",
    "target = movie['类型']\n",
    "print(data)\n",
    "# 数据data决定 ---->>> 目标 traget"
   ]
  },
  {
   "cell_type": "code",
   "execution_count": 20,
   "metadata": {},
   "outputs": [],
   "source": [
    "# 算法 训练\n",
    "knn = KNeighborsClassifier(n_neighbors= 5)"
   ]
  },
  {
   "cell_type": "code",
   "execution_count": 25,
   "metadata": {},
   "outputs": [
    {
     "data": {
      "text/plain": [
       "KNeighborsClassifier(algorithm='auto', leaf_size=30, metric='minkowski',\n",
       "                     metric_params=None, n_jobs=None, n_neighbors=5, p=2,\n",
       "                     weights='uniform')"
      ]
     },
     "execution_count": 25,
     "metadata": {},
     "output_type": "execute_result"
    }
   ],
   "source": [
    "# 训练  学习 算法  知道 数据和目标值target的关系\n",
    "knn.fit(data,target)"
   ]
  },
  {
   "cell_type": "code",
   "execution_count": 30,
   "metadata": {},
   "outputs": [
    {
     "data": {
      "text/html": [
       "<div>\n",
       "<style scoped>\n",
       "    .dataframe tbody tr th:only-of-type {\n",
       "        vertical-align: middle;\n",
       "    }\n",
       "\n",
       "    .dataframe tbody tr th {\n",
       "        vertical-align: top;\n",
       "    }\n",
       "\n",
       "    .dataframe thead th {\n",
       "        text-align: right;\n",
       "    }\n",
       "</style>\n",
       "<table border=\"1\" class=\"dataframe\">\n",
       "  <thead>\n",
       "    <tr style=\"text-align: right;\">\n",
       "      <th></th>\n",
       "      <th>武打镜头</th>\n",
       "      <th>KISS</th>\n",
       "    </tr>\n",
       "  </thead>\n",
       "  <tbody>\n",
       "    <tr>\n",
       "      <th>0</th>\n",
       "      <td>67</td>\n",
       "      <td>90</td>\n",
       "    </tr>\n",
       "    <tr>\n",
       "      <th>1</th>\n",
       "      <td>90</td>\n",
       "      <td>9</td>\n",
       "    </tr>\n",
       "    <tr>\n",
       "      <th>2</th>\n",
       "      <td>110</td>\n",
       "      <td>20</td>\n",
       "    </tr>\n",
       "  </tbody>\n",
       "</table>\n",
       "</div>"
      ],
      "text/plain": [
       "   武打镜头  KISS\n",
       "0    67    90\n",
       "1    90     9\n",
       "2   110    20"
      ]
     },
     "execution_count": 30,
     "metadata": {},
     "output_type": "execute_result"
    }
   ],
   "source": [
    "# 预测 使用 应用  高考\n",
    "# KISS镜头  动作镜头\n",
    "# 唐伯虎 67 ，90\n",
    "# 前任3  90 ， 9\n",
    "# 钢铁侠 110  20\n",
    "X_test = pd.DataFrame({'武打镜头':[67,90,110],'KISS':[90,9,20]})\n",
    "X_test"
   ]
  },
  {
   "cell_type": "code",
   "execution_count": 38,
   "metadata": {},
   "outputs": [
    {
     "name": "stdout",
     "output_type": "stream",
     "text": [
      "爱情片\n",
      "动作片\n",
      "爱情片\n"
     ]
    }
   ],
   "source": [
    "# 预测\n",
    "result = knn.predict(X_test)\n",
    "for x in result:\n",
    "    print(x)"
   ]
  }
 ],
 "metadata": {
  "kernelspec": {
   "display_name": "Python 3",
   "language": "python",
   "name": "python3"
  },
  "language_info": {
   "codemirror_mode": {
    "name": "ipython",
    "version": 3
   },
   "file_extension": ".py",
   "mimetype": "text/x-python",
   "name": "python",
   "nbconvert_exporter": "python",
   "pygments_lexer": "ipython3",
   "version": "3.8.1"
  }
 },
 "nbformat": 4,
 "nbformat_minor": 4
}
