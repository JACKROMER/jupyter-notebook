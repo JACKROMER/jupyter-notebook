{
 "cells": [
  {
   "cell_type": "markdown",
   "metadata": {},
   "source": [
    "### KNN -手写数字识别"
   ]
  },
  {
   "cell_type": "code",
   "execution_count": 2,
   "metadata": {},
   "outputs": [],
   "source": [
    "import numpy as np\n",
    "# 用于加载图片\n",
    "import cv2\n",
    "import matplotlib.pyplot as plt\n",
    "%matplotlib inline\n",
    "from sklearn.neighbors import KNeighborsClassifier"
   ]
  },
  {
   "cell_type": "code",
   "execution_count": 3,
   "metadata": {},
   "outputs": [
    {
     "data": {
      "text/plain": [
       "(195, 241)"
      ]
     },
     "execution_count": 3,
     "metadata": {},
     "output_type": "execute_result"
    }
   ],
   "source": [
    "# load pci  位图  三维图片\n",
    "digit = cv2.imread('./nums.bmp')\n",
    "# # 将彩色图片转为黑白的  降低灰度  数据减少了到了二维\n",
    "digit = cv2.cvtColor(digit,code = cv2.COLOR_BGR2GRAY)\n",
    "digit.shape"
   ]
  },
  {
   "cell_type": "code",
   "execution_count": 4,
   "metadata": {},
   "outputs": [],
   "source": [
    "## 加载所有图片\n",
    "# 测试数据\n",
    "X=[]\n",
    "for i in range(10):\n",
    "    for j in range(0,11):\n",
    "        digit = cv2.imread('./data/%d/%d.bmp'%(i,j))\n",
    "        # 灰度处理\n",
    "        m = cv2.cvtColor(digit,code = cv2.COLOR_BGR2GRAY)\n",
    "        m = m[20:170,20:170]\n",
    "        X.append(m)\n",
    "#转换为numpy对象\n",
    "X = np.array(X)\n",
    "Y = np.array([i for i in range(10)]*11)\n",
    "# X AND Y IS ONE TO ONE\n",
    "# 排序\n",
    "Y.sort()\n",
    "# data has prepared done"
   ]
  },
  {
   "cell_type": "markdown",
   "metadata": {},
   "source": [
    "## 加载数据  处理数据  灰度化处理 "
   ]
  },
  {
   "cell_type": "code",
   "execution_count": 29,
   "metadata": {},
   "outputs": [
    {
     "data": {
      "text/plain": [
       "<matplotlib.image.AxesImage at 0x20711eb8f10>"
      ]
     },
     "execution_count": 29,
     "metadata": {},
     "output_type": "execute_result"
    },
    {
     "data": {
      "image/png": "[encoded data removed]",
      "text/plain": [
       "<Figure size 432x288 with 1 Axes>"
      ]
     },
     "metadata": {
      "needs_background": "light"
     },
     "output_type": "display_data"
    }
   ],
   "source": [
    "# 显示图片  目前digit是二维数据 高度 宽度，像素（只有一个值） ，用什么颜色表示呢\n",
    "# 选择黑白  图片show就是黑白\n",
    "# \n",
    "# 画图  随机显示图片\n",
    "index = np.random.randint(0,110,size=1)[0]\n",
    "digit = X[index]\n",
    "plt.imshow(digit,cmap = plt.cm.gray)"
   ]
  },
  {
   "cell_type": "markdown",
   "metadata": {},
   "source": [
    "## 以上 数据准备完毕 数据进行灰度化处理 降维"
   ]
  },
  {
   "cell_type": "markdown",
   "metadata": {},
   "source": [
    "## X Y 分割  使用train_test_split算法分割为训练和验证数据"
   ]
  },
  {
   "cell_type": "code",
   "execution_count": 6,
   "metadata": {},
   "outputs": [],
   "source": [
    "# 模型选择\n",
    "from sklearn.model_selection import train_test_split"
   ]
  },
  {
   "cell_type": "code",
   "execution_count": 7,
   "metadata": {},
   "outputs": [],
   "source": [
    "# 分割数据 默认0.25 划分后数据也是一一对应的\n",
    "X_train,X_test,Y_train,Y_test = train_test_split(X,Y,test_size = 0.2)"
   ]
  },
  {
   "cell_type": "code",
   "execution_count": 8,
   "metadata": {},
   "outputs": [
    {
     "data": {
      "text/plain": [
       "(22,)"
      ]
     },
     "execution_count": 8,
     "metadata": {},
     "output_type": "execute_result"
    }
   ],
   "source": [
    "#数据不合要求 ，reshape形状改变\n",
    "#数据不变 -1 即便为倒过来数  三维数据变为二维数据\n",
    "X_train = X_train.reshape(88,-1)\n",
    "Y_train = Y_train.reshape(88,-1)\n",
    "X_train.shape\n",
    "Y_test.shape"
   ]
  },
  {
   "cell_type": "code",
   "execution_count": 9,
   "metadata": {},
   "outputs": [
    {
     "name": "stderr",
     "output_type": "stream",
     "text": [
      "<ipython-input-9-ae48159f3465>:5: DataConversionWarning: A column-vector y was passed when a 1d array was expected. Please change the shape of y to (n_samples, ), for example using ravel().\n",
      "  knn.fit(X_train,Y_train)\n"
     ]
    },
    {
     "data": {
      "text/plain": [
       "KNeighborsClassifier(algorithm='auto', leaf_size=30, metric='minkowski',\n",
       "                     metric_params=None, n_jobs=None, n_neighbors=2, p=2,\n",
       "                     weights='uniform')"
      ]
     },
     "execution_count": 9,
     "metadata": {},
     "output_type": "execute_result"
    }
   ],
   "source": [
    "## 使用算法训练和预测\n",
    "# 训练\n",
    "knn = KNeighborsClassifier(n_neighbors=2)\n",
    "# 训练数据\n",
    "knn.fit(X_train,Y_train)"
   ]
  },
  {
   "cell_type": "code",
   "execution_count": 10,
   "metadata": {},
   "outputs": [
    {
     "data": {
      "text/plain": [
       "0.125"
      ]
     },
     "execution_count": 10,
     "metadata": {},
     "output_type": "execute_result"
    }
   ],
   "source": [
    "# %%time\n",
    "# 使用算法进行预测\n",
    "# 算法没见过 剩下的22 个没见过\n",
    "# 训练是二维  预测也得是二维\n",
    "X_test = X_test.reshape(22,-1)\n",
    "# 准确率能否达到100%\n",
    "Y_ = knn.predict(X_train)\n",
    "#准确率\n",
    "knn.score(X_train,Y_train)"
   ]
  },
  {
   "cell_type": "code",
   "execution_count": 11,
   "metadata": {},
   "outputs": [
    {
     "name": "stdout",
     "output_type": "stream",
     "text": [
      "0.10020661157024793\n"
     ]
    }
   ],
   "source": [
    "#计算准确率\n",
    "print((Y_ == Y_train).mean())"
   ]
  },
  {
   "cell_type": "code",
   "execution_count": 30,
   "metadata": {},
   "outputs": [],
   "source": [
    "## 图片进行二值化操作\n",
    "for i in range(110):\n",
    "    for y in range(150):\n",
    "        for x in range(150):\n",
    "            if X[i][y,x] < 200:\n",
    "                X[i][y,x] = 0\n",
    "            else:\n",
    "                X[i][y,x] = 255"
   ]
  },
  {
   "cell_type": "code",
   "execution_count": 33,
   "metadata": {},
   "outputs": [
    {
     "data": {
      "text/plain": [
       "<matplotlib.image.AxesImage at 0x2071332ae80>"
      ]
     },
     "execution_count": 33,
     "metadata": {},
     "output_type": "execute_result"
    },
    {
     "data": {
      "image/png": "[encoded data removed]",
      "text/plain": [
       "<Figure size 432x288 with 1 Axes>"
      ]
     },
     "metadata": {
      "needs_background": "light"
     },
     "output_type": "display_data"
    }
   ],
   "source": [
    "#\n",
    "index = np.random.randint(0,110,size = 1)[0]\n",
    "plt.imshow(X[index],cmap='gray')"
   ]
  },
  {
   "cell_type": "code",
   "execution_count": null,
   "metadata": {},
   "outputs": [],
   "source": []
  }
 ],
 "metadata": {
  "kernelspec": {
   "display_name": "Python 3",
   "language": "python",
   "name": "python3"
  },
  "language_info": {
   "codemirror_mode": {
    "name": "ipython",
    "version": 3
   },
   "file_extension": ".py",
   "mimetype": "text/x-python",
   "name": "python",
   "nbconvert_exporter": "python",
   "pygments_lexer": "ipython3",
   "version": "3.8.1"
  }
 },
 "nbformat": 4,
 "nbformat_minor": 4
}
