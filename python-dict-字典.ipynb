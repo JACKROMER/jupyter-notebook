{
 "cells": [
  {
   "cell_type": "markdown",
   "metadata": {},
   "source": [
    "## python字典dict"
   ]
  },
  {
   "cell_type": "code",
   "execution_count": 63,
   "metadata": {},
   "outputs": [
    {
     "name": "stdout",
     "output_type": "stream",
     "text": [
      "5\n",
      "6\n",
      "hello i am a dictionary.\n"
     ]
    },
    {
     "data": {
      "text/plain": [
       "{'a': 'hahah', 'b': 'hahah', 'c': 'hahah', 'ass': 'you insert.'}"
      ]
     },
     "execution_count": 63,
     "metadata": {},
     "output_type": "execute_result"
    }
   ],
   "source": [
    "dict()\n",
    "dic = dict()\n",
    "dic = {'a':5,'b':6,'c':\"hello i am a dictionary.\"}\n",
    "# dic.clear()\n",
    "# key  = 'c'\n",
    "# val = dic[key]\n",
    "# val\n",
    "dic2 = dic.copy()\n",
    "item = dic.values()\n",
    "for value in item:\n",
    "    print(value)\n",
    "#     dic.pop(value)#尝试遍历时删除元素，失败\n",
    "keyIter = dic.keys()\n",
    "dic3 = dic.fromkeys(keyIter,\"hahah\")\n",
    "findKey = dic3.setdefault('ass','you insert.')\n",
    "dic3\n"
   ]
  },
  {
   "cell_type": "code",
   "execution_count": 64,
   "metadata": {},
   "outputs": [],
   "source": [
    "a = 2\n",
    "b = 3\n",
    "c = 4"
   ]
  },
  {
   "cell_type": "code",
   "execution_count": 65,
   "metadata": {},
   "outputs": [],
   "source": [
    "def checks(a1,b1):\n",
    "    if(a1 > 2 or b1 == 3):\n",
    "        print('xxx')"
   ]
  },
  {
   "cell_type": "code",
   "execution_count": 66,
   "metadata": {
    "collapsed": true
   },
   "outputs": [
    {
     "name": "stdout",
     "output_type": "stream",
     "text": [
      "xxx\n"
     ]
    }
   ],
   "source": [
    "checks(2,3)"
   ]
  },
  {
   "cell_type": "code",
   "execution_count": 67,
   "metadata": {
    "collapsed": true
   },
   "outputs": [
    {
     "data": {
      "text/plain": [
       "False"
      ]
     },
     "execution_count": 67,
     "metadata": {},
     "output_type": "execute_result"
    }
   ],
   "source": [
    "list5 = [2,5,9]\n",
    "flag = (5 in list5)\n",
    "flag2 = (8 in list5)\n",
    "flag2"
   ]
  },
  {
   "cell_type": "code",
   "execution_count": 68,
   "metadata": {},
   "outputs": [],
   "source": [
    "def makeaist(num):\n",
    "    lists = []\n",
    "    for i in range(num):\n",
    "        lists.append(i)\n",
    "    return lists"
   ]
  },
  {
   "cell_type": "code",
   "execution_count": null,
   "metadata": {},
   "outputs": [],
   "source": [
    "list6 = makeaist(9)\n",
    "list6[6]\n",
    "\n",
    "list7 = list6[:]\n",
    "list7 = list6[0:-1]\n",
    "list7 = list6[2:5]\n",
    "list7 = list6[:5:2]\n",
    "list7 = list6[::-1]\n",
    "list7 = list6[5:1:-2]\n",
    "len(list7)\n",
    "sum(list6,100)\n"
   ]
  },
  {
   "cell_type": "code",
   "execution_count": 34,
   "metadata": {},
   "outputs": [],
   "source": [
    "import math\n",
    "def getmin():\n",
    "    a = input('please input a:')\n",
    "    b = input('please input b:')\n",
    "    c = input('please input c:')\n",
    "    d = input('please input c:')\n",
    "    e = input('please input c:')\n",
    "    lists = [int(a),int(b),int(c),int(d),int(e)]\n",
    "    s = lists[1]\n",
    "    s1 = lists[3]\n",
    "    length = len(lists)\n",
    "    s = lists[1 - length]\n",
    "    s1 = lists[3 - length]\n",
    "    print('%s，%s' %(s,s1))\n",
    "    print('%s，%s' %(s,s1))\n",
    "    dicts = {}\n",
    "    for i2 in lists:\n",
    "        if(i2 == 2):\n",
    "            dicts.setdefault('key' + str(i2),30)\n",
    "        else:\n",
    "            dicts.setdefault('key' + str(i2),i2)\n",
    "    minv = min(lists)\n",
    "    sumv = sum(lists)\n",
    "    lists2 = lists[0:-1]\n",
    "    lists2.sort()\n",
    "    print(lists2)\n",
    "    sums = sum(lists2)\n",
    "    aver = sums/5\n",
    "    print('sums is %s' %(sums))\n",
    "    print('sums is %s' %(aver))\n",
    "    print(lists2)\n",
    "    print(minv)\n",
    "    print(sumv)\n",
    "    print(dicts)\n",
    "    "
   ]
  },
  {
   "cell_type": "code",
   "execution_count": 35,
   "metadata": {},
   "outputs": [
    {
     "name": "stdout",
     "output_type": "stream",
     "text": [
      "please input a:4\n",
      "please input b:5\n",
      "please input c:6\n",
      "please input c:7\n",
      "please input c:8\n",
      "5，7\n",
      "5，7\n",
      "[4, 5, 6]\n",
      "sums is 15\n",
      "sums is 3.75\n",
      "[4, 5, 6]\n",
      "4\n",
      "30\n",
      "{'key4': 4, 'key5': 5, 'key6': 6, 'key7': 7, 'key8': 8}\n"
     ]
    }
   ],
   "source": [
    "getmin()"
   ]
  }
 ],
 "metadata": {
  "kernelspec": {
   "display_name": "Python 3",
   "language": "python",
   "name": "python3"
  },
  "language_info": {
   "codemirror_mode": {
    "name": "ipython",
    "version": 3
   },
   "file_extension": ".py",
   "mimetype": "text/x-python",
   "name": "python",
   "nbconvert_exporter": "python",
   "pygments_lexer": "ipython3",
   "version": "3.7.1"
  }
 },
 "nbformat": 4,
 "nbformat_minor": 2
}
